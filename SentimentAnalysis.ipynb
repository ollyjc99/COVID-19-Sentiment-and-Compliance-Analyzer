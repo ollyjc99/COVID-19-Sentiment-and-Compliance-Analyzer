{
 "cells": [
  {
   "cell_type": "code",
   "execution_count": 3,
   "id": "involved-saskatchewan",
   "metadata": {},
   "outputs": [],
   "source": [
    "from vaderSentiment.vaderSentiment import SentimentIntensityAnalyzer"
   ]
  },
  {
   "cell_type": "code",
   "execution_count": 4,
   "id": "practical-gabriel",
   "metadata": {},
   "outputs": [],
   "source": [
    "def sentiment_analysis(sentences):\n",
    "    analyser = SentimentIntensityAnalyzer()\n",
    "    scores = []\n",
    "    sentiments = []\n",
    "    for sentence in sentences:\n",
    "        score = analyser.polarity_scores(sentence)\n",
    "        \n",
    "        if score[\"compound\"] >= 0.05:\n",
    "            scores.append(score['compound'])\n",
    "            sentiments.append('positive')\n",
    "        elif score[\"compound\"] <= -0.05:\n",
    "            scores.append(score['compound'])\n",
    "            sentiments.append('negative')\n",
    "        elif 0.05 > score[\"compound\"] > -0.05:\n",
    "            scores.append(score['compound'])\n",
    "            sentiments.append('neutral')\n",
    "        \n",
    "    return [sentiments, scores]"
   ]
  },
  {
   "cell_type": "code",
   "execution_count": 2,
   "id": "swedish-rehabilitation",
   "metadata": {},
   "outputs": [
    {
     "name": "stderr",
     "output_type": "stream",
     "text": [
      "[nltk_data] Error loading stopwords: <urlopen error [Errno 8] nodename\n",
      "[nltk_data]     nor servname provided, or not known>\n",
      "[nltk_data] Error loading punkt: <urlopen error [Errno 8] nodename nor\n",
      "[nltk_data]     servname provided, or not known>\n",
      "[nltk_data] Error loading wordnet: <urlopen error [Errno 8] nodename\n",
      "[nltk_data]     nor servname provided, or not known>\n"
     ]
    }
   ],
   "source": [
    "from sys import platform\n",
    "import pandas as pd\n",
    "from datetime import datetime\n",
    "import matplotlib.pyplot as plt\n",
    "import numpy as np\n",
    "import text2emotion\n",
    "\n",
    "if platform == \"win32\":\n",
    "    path = 'C:/Users/olive/'\n",
    "elif platform == \"darwin\":\n",
    "    path = '~/'"
   ]
  },
  {
   "cell_type": "code",
   "execution_count": 3,
   "id": "forced-portrait",
   "metadata": {},
   "outputs": [],
   "source": [
    "c_df = pd.read_pickle(path + 'OneDrive - Cardiff University/Individual Project/processed data/comments.csv')\n",
    "comments = c_df.sample(10)"
   ]
  },
  {
   "cell_type": "code",
   "execution_count": 69,
   "id": "restricted-marker",
   "metadata": {},
   "outputs": [],
   "source": [
    "def get_emotions(sentences):\n",
    "    emotions = []\n",
    "    for index, row in sentences.iterrows():\n",
    "        e = text2emotion.get_emotion(row['processed_text']) \n",
    "        e['id'] = index\n",
    "        emotions.append(e)\n",
    "        \n",
    "    emotions = pd.DataFrame(emotions)\n",
    "    emotions.set_index('id')\n",
    "    return emotions"
   ]
  },
  {
   "cell_type": "code",
   "execution_count": 70,
   "id": "boring-ridge",
   "metadata": {},
   "outputs": [],
   "source": []
  }
 ],
 "metadata": {
  "kernelspec": {
   "display_name": "Python 3",
   "language": "python",
   "name": "python3"
  },
  "language_info": {
   "codemirror_mode": {
    "name": "ipython",
    "version": 3
   },
   "file_extension": ".py",
   "mimetype": "text/x-python",
   "name": "python",
   "nbconvert_exporter": "python",
   "pygments_lexer": "ipython3",
   "version": "3.9.1"
  }
 },
 "nbformat": 4,
 "nbformat_minor": 5
}
