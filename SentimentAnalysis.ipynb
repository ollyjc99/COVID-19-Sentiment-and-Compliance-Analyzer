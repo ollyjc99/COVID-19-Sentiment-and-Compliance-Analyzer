{
 "cells": [
  {
   "cell_type": "code",
   "execution_count": 3,
   "id": "involved-saskatchewan",
   "metadata": {},
   "outputs": [],
   "source": [
    "from vaderSentiment.vaderSentiment import SentimentIntensityAnalyzer"
   ]
  },
  {
   "cell_type": "code",
   "execution_count": 4,
   "id": "practical-gabriel",
   "metadata": {},
   "outputs": [],
   "source": [
    "def sentiment_analysis(sentences):\n",
    "    analyser = SentimentIntensityAnalyzer()\n",
    "    scores = []\n",
    "    sentiments = []\n",
    "    for sentence in sentences:\n",
    "        score = analyser.polarity_scores(sentence)\n",
    "        \n",
    "        if score[\"compound\"] >= 0.05:\n",
    "            scores.append(score['compound'])\n",
    "            sentiments.append('positive')\n",
    "        elif score[\"compound\"] <= -0.05:\n",
    "            scores.append(score['compound'])\n",
    "            sentiments.append('negative')\n",
    "        elif 0.05 > score[\"compound\"] > -0.05:\n",
    "            scores.append(score['compound'])\n",
    "            sentiments.append('neutral')\n",
    "        \n",
    "    return [sentiments, scores]"
   ]
  },
  {
   "cell_type": "code",
   "execution_count": 69,
   "id": "restricted-marker",
   "metadata": {},
   "outputs": [],
   "source": [
    "def get_emotions(sentences):\n",
    "    emotions = []\n",
    "    for index, row in sentences.iterrows():\n",
    "        e = text2emotion.get_emotion(row['processed_text']) \n",
    "        e['id'] = index\n",
    "        emotions.append(e)\n",
    "        \n",
    "    emotions = pd.DataFrame(emotions)\n",
    "    emotions.set_index('id')\n",
    "    return emotions"
   ]
  }
 ],
 "metadata": {
  "kernelspec": {
   "display_name": "Python 3",
   "language": "python",
   "name": "python3"
  },
  "language_info": {
   "codemirror_mode": {
    "name": "ipython",
    "version": 3
   },
   "file_extension": ".py",
   "mimetype": "text/x-python",
   "name": "python",
   "nbconvert_exporter": "python",
   "pygments_lexer": "ipython3",
   "version": "3.9.1"
  }
 },
 "nbformat": 4,
 "nbformat_minor": 5
}
