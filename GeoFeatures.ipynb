{
 "cells": [
  {
   "cell_type": "code",
   "execution_count": null,
   "id": "entertaining-alaska",
   "metadata": {},
   "outputs": [],
   "source": [
    "import sys\n",
    "import spacy\n",
    "from geopy.geocoders import Nominatim\n",
    "from geopy.distance import geodesic"
   ]
  },
  {
   "cell_type": "code",
   "execution_count": null,
   "id": "becoming-cruise",
   "metadata": {},
   "outputs": [],
   "source": [
    "def get_geographical_feature(doc):\n",
    "    for ent in doc.ents:\n",
    "        if ent.label_ == 'FAC' or ent.label_ == 'GPE' or ent.label_ == 'LOC':\n",
    "            return ent.text.strip()"
   ]
  },
  {
   "cell_type": "code",
   "execution_count": null,
   "id": "arranged-romantic",
   "metadata": {},
   "outputs": [],
   "source": [
    "def get_nearest_location(guide_coords, locations):\n",
    "    best = None\n",
    "    distance = 0\n",
    "    \n",
    "    for location in locations:\n",
    "        retrieved_coords = (\n",
    "            round(location.latitude, 2),\n",
    "            round(location.longitude, 2)\n",
    "        )\n",
    "        if not best:\n",
    "            best = location\n",
    "            distance = geodesic(guide_coords, retrived_coords).km\n",
    "        else:\n",
    "            potential_distance = geodesic(guide_coords, retrieved_coords).km\n",
    "            if potential_distance <= distance:\n",
    "                best = location\n",
    "                distance = potential_distance\n",
    "                \n",
    "    return best, distance"
   ]
  },
  {
   "cell_type": "code",
   "execution_count": null,
   "id": "legislative-diana",
   "metadata": {},
   "outputs": [],
   "source": [
    "def get_captions(captions):\n",
    "    nlp = spacy.load(\"en_core_web_sm\")\n",
    "    Lat = []\n",
    "    Long = []\n",
    "    geolocator = Nominatim(user_agent=\"coronavirusUK-submission-ner-geocoder\")\n",
    "    for caption in captions:\n",
    "        feature = get_geographical_feature(nlp(caption))\n",
    "        locations = geolocator.geocode(feature, language=\"en\", limit=1)\n",
    "        if location:\n",
    "            # Center Point of the United Kingdom\n",
    "            guide_coords = (\n",
    "                round(54.093409, 2), \n",
    "                round(-2.89479, 2)\n",
    "            )\n",
    "            retrieved_coords = (\n",
    "                round(location.latitude, 2),\n",
    "                round(location.longitude, 2)\n",
    "            )\n",
    "            distance = geodesic(guide_coords, retrieved_coords).km\n",
    "            if distance <= 550:\n",
    "                Lat.append(retrieved_coords[0])\n",
    "                Long.append(retrieved_coords[1])\n",
    "            else:\n",
    "                Lat.append(\"\")\n",
    "                Long.append(\"\")\n",
    "                \n",
    "    return [Lat, Long]\n",
    "            \n",
    "    \n",
    "    "
   ]
  }
 ],
 "metadata": {
  "kernelspec": {
   "display_name": "Python 3",
   "language": "python",
   "name": "python3"
  },
  "language_info": {
   "codemirror_mode": {
    "name": "ipython",
    "version": 3
   },
   "file_extension": ".py",
   "mimetype": "text/x-python",
   "name": "python",
   "nbconvert_exporter": "python",
   "pygments_lexer": "ipython3",
   "version": "3.9.1"
  }
 },
 "nbformat": 4,
 "nbformat_minor": 5
}
