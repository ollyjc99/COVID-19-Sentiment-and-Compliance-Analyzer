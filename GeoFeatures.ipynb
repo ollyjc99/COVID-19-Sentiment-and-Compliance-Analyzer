{
 "cells": [
  {
   "cell_type": "code",
   "execution_count": null,
   "id": "potential-rocket",
   "metadata": {},
   "outputs": [],
   "source": [
    "import sys\n",
    "import spacy\n",
    "from geopy.geocoders import Nominatim\n",
    "from geopy.distance import geodesic"
   ]
  },
  {
   "cell_type": "code",
   "execution_count": null,
   "id": "signed-marble",
   "metadata": {},
   "outputs": [],
   "source": [
    "def get_geographical_feature(doc):\n",
    "    for ent in doc.ents:\n",
    "        if ent.label_ == 'FAC' or ent.label_ == 'GPE' or ent.label_ == 'LOC':\n",
    "            return ent.text.strip()"
   ]
  },
  {
   "cell_type": "code",
   "execution_count": null,
   "id": "endless-prediction",
   "metadata": {},
   "outputs": [],
   "source": [
    "def get_captions(captions):\n",
    "    nlp = get_new_model()\n",
    "    \n",
    "    captions = []\n",
    "    geolocator = Nominatim(user_agent=\"coronavirusUK-submission-ner-geocoder\")\n",
    "    \n",
    "    "
   ]
  }
 ],
 "metadata": {
  "kernelspec": {
   "display_name": "Python 3",
   "language": "python",
   "name": "python3"
  },
  "language_info": {
   "codemirror_mode": {
    "name": "ipython",
    "version": 3
   },
   "file_extension": ".py",
   "mimetype": "text/x-python",
   "name": "python",
   "nbconvert_exporter": "python",
   "pygments_lexer": "ipython3",
   "version": "3.9.1"
  }
 },
 "nbformat": 4,
 "nbformat_minor": 5
}
