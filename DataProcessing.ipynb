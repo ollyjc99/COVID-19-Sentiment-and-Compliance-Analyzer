{
 "cells": [
  {
   "cell_type": "code",
   "execution_count": 1,
   "id": "thrown-database",
   "metadata": {},
   "outputs": [
    {
     "name": "stdout",
     "output_type": "stream",
     "text": [
      "Populating the interactive namespace from numpy and matplotlib\n"
     ]
    }
   ],
   "source": [
    "%pylab inline\n",
    "from sys import platform\n",
    "import pandas as pd\n",
    "from datetime import datetime\n",
    "\n",
    "if platform == \"win32\":\n",
    "    path = 'C:/Users/olive/'\n",
    "elif platform == \"darwin\":\n",
    "    path = '~/'\n",
    "    \n",
    "%run SentimentAnalysis.ipynb\n",
    "%run GeoFeatures.ipynb"
   ]
  },
  {
   "cell_type": "code",
   "execution_count": 2,
   "id": "wireless-machine",
   "metadata": {},
   "outputs": [],
   "source": [
    "# EXPLORATORY ANALYSIS\n",
    "\n",
    "from wordcloud import WordCloud\n",
    "\n",
    "def cloud_gen(text):\n",
    "    long_string = ','.join(list(text.values))\n",
    "\n",
    "    wordcloud = WordCloud(background_color=\"white\",\n",
    "                          max_words=5000,\n",
    "                          contour_width=3,\n",
    "                          contour_color='steelblue'\n",
    "                         )\n",
    "\n",
    "    return wordcloud.generate(long_string)"
   ]
  },
  {
   "cell_type": "code",
   "execution_count": null,
   "id": "tamil-excuse",
   "metadata": {},
   "outputs": [],
   "source": [
    "### READS IN RAW REDDIT DATA FROM UNIVERSITY ONEDRIVE\n",
    "### INTO COMMENT AND SUBMISSION DATAFRAMES\n",
    "\n",
    "c_df = pd.read_csv(path + 'OneDrive - Cardiff University/Individual Project/raw data/comments.csv', index_col ='id')\n",
    "s_df = pd.read_csv(path + 'OneDrive - Cardiff University/Individual Project/raw data/submissions.csv', index_col ='id')"
   ]
  },
  {
   "cell_type": "code",
   "execution_count": 9,
   "id": "adolescent-pavilion",
   "metadata": {},
   "outputs": [],
   "source": [
    "### LOADS PROCESSED DATA\n",
    "\n",
    "c_df = pd.read_pickle(path + 'OneDrive - Cardiff University/Individual Project/processed data/comments.csv')\n",
    "s_df = pd.read_pickle(path + 'OneDrive - Cardiff University/Individual Project/processed data/submissions.csv')"
   ]
  },
  {
   "cell_type": "code",
   "execution_count": null,
   "id": "cleared-medium",
   "metadata": {},
   "outputs": [],
   "source": [
    "### ATTEMPT TO GEOCODE LOCATIONS FOR EACH SUBMISSION WHERE POSSIBLE\n",
    "\n",
    "subs2geocode = s_df.sample(500)\n",
    "subs2geocode['coords'] = get_captions([*subs2geocode['title'].values])"
   ]
  },
  {
   "cell_type": "code",
   "execution_count": null,
   "id": "taken-prisoner",
   "metadata": {},
   "outputs": [],
   "source": [
    "body_wordcloud = cloud_gen(c_df['body'])\n",
    "body_wordcloud.to_image()"
   ]
  },
  {
   "cell_type": "code",
   "execution_count": null,
   "id": "accredited-horizontal",
   "metadata": {},
   "outputs": [],
   "source": [
    "pt_wordcloud = cloud_gen(c_df['processed_text'])\n",
    "pt_wordcloud.to_image()"
   ]
  },
  {
   "cell_type": "code",
   "execution_count": null,
   "id": "anticipated-institution",
   "metadata": {},
   "outputs": [],
   "source": [
    "### PROCESSING OF RAW COMMENT AND SUBMISSION DATA\n",
    "\n",
    "# Create a datetime from the 'created_utc' column of each row\n",
    "c_df['datetime'] = [datetime.fromtimestamp(i) for i in c_df['created_utc']]\n",
    "s_df['datetime'] = [datetime.fromtimestamp(i) for i in s_df['created_utc']]"
   ]
  },
  {
   "cell_type": "code",
   "execution_count": null,
   "id": "promotional-subsection",
   "metadata": {},
   "outputs": [],
   "source": [
    "# Perform sentiment analysis on each comment and return the sentiment and compound score\n",
    "c_df['sentiment'] , c_df['compound_score'] = sentiment_analysis([*c_df['body']])"
   ]
  },
  {
   "cell_type": "code",
   "execution_count": 6,
   "id": "choice-primary",
   "metadata": {},
   "outputs": [
    {
     "data": {
      "text/plain": [
       "id\n",
       "fhc1f60    do you know what time each day gmt the figures...\n",
       "fhaw2m3    worrying part of the uk known cases are all pe...\n",
       "fhawse0    you’d of thought so could be 100 people carryi...\n",
       "fhazbjz                         damni’ll go there in 2 weeks\n",
       "fhawk4d    surely it’s going to hit at all large multi-na...\n",
       "Name: processed_text, dtype: object"
      ]
     },
     "execution_count": 6,
     "metadata": {},
     "output_type": "execute_result"
    }
   ],
   "source": [
    "# TEXT PREPROCESSING\n",
    "import re\n",
    "\n",
    "# REMOVING PUNCTUATION\n",
    "c_df['processed_text'] = c_df['body'].map(lambda x: re.sub('[,\\.!?]', '', x))\n",
    "\n",
    "# SET ALL TEXT TO LOWERCASE\n",
    "c_df['processed_text'] = c_df['processed_text'].map(lambda x: x.lower())\n",
    "\n",
    "c_df['processed_text'].head()"
   ]
  },
  {
   "cell_type": "code",
   "execution_count": 7,
   "id": "indoor-bishop",
   "metadata": {},
   "outputs": [],
   "source": [
    "### REFORMAT DATAFRAMES\n",
    "\n",
    "c_df = c_df[['datetime', 'body', 'processed_text', 'sentiment', 'compound_score', 'submission_id', 'parent_id']]\n",
    "s_df = s_df[['datetime', 'title', 'selftext']]"
   ]
  },
  {
   "cell_type": "code",
   "execution_count": 8,
   "id": "transsexual-valuable",
   "metadata": {},
   "outputs": [],
   "source": [
    "### SAVE PROCESSED DATA\n",
    "\n",
    "c_df.to_pickle(path + 'OneDrive - Cardiff University/Individual Project/processed data/comments.csv')\n",
    "s_df.to_pickle(path + 'OneDrive - Cardiff University/Individual Project/processed data/submissions.csv')"
   ]
  },
  {
   "cell_type": "code",
   "execution_count": null,
   "id": "instrumental-group",
   "metadata": {},
   "outputs": [],
   "source": []
  }
 ],
 "metadata": {
  "kernelspec": {
   "display_name": "Python 3",
   "language": "python",
   "name": "python3"
  },
  "language_info": {
   "codemirror_mode": {
    "name": "ipython",
    "version": 3
   },
   "file_extension": ".py",
   "mimetype": "text/x-python",
   "name": "python",
   "nbconvert_exporter": "python",
   "pygments_lexer": "ipython3",
   "version": "3.9.1"
  }
 },
 "nbformat": 4,
 "nbformat_minor": 5
}
