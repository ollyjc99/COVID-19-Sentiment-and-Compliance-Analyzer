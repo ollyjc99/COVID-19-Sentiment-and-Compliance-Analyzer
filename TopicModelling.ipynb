{
 "cells": [
  {
   "cell_type": "code",
   "execution_count": 1,
   "id": "protecting-passing",
   "metadata": {},
   "outputs": [
    {
     "name": "stdout",
     "output_type": "stream",
     "text": [
      "Populating the interactive namespace from numpy and matplotlib\n"
     ]
    }
   ],
   "source": [
    "#Separate notebook to work on Topic Modelling with LDA\n",
    "%pylab inline\n",
    "from sys import platform\n",
    "from pprint import pprint\n",
    "import pandas as pd\n",
    "from tqdm import trange\n",
    "\n",
    "if platform == \"win32\":\n",
    "    path = 'C:/Users/olive/'\n",
    "elif platform == \"darwin\":\n",
    "    path = '~/'"
   ]
  },
  {
   "cell_type": "code",
   "execution_count": 2,
   "id": "enormous-society",
   "metadata": {},
   "outputs": [],
   "source": [
    "c_df = pd.read_pickle(path + 'OneDrive - Cardiff University/Individual Project/processed data/comments.csv')\n",
    "s_df = pd.read_pickle(path + 'OneDrive - Cardiff University/Individual Project/processed data/submissions.csv')\n",
    "\n",
    "s_df = s_df.sort_values(by='datetime')\n",
    "c_df = c_df.sort_values(by='datetime')"
   ]
  },
  {
   "cell_type": "code",
   "execution_count": 23,
   "id": "affected-neighborhood",
   "metadata": {},
   "outputs": [
    {
     "data": {
      "text/html": [
       "<div>\n",
       "<style scoped>\n",
       "    .dataframe tbody tr th:only-of-type {\n",
       "        vertical-align: middle;\n",
       "    }\n",
       "\n",
       "    .dataframe tbody tr th {\n",
       "        vertical-align: top;\n",
       "    }\n",
       "\n",
       "    .dataframe thead th {\n",
       "        text-align: right;\n",
       "    }\n",
       "</style>\n",
       "<table border=\"1\" class=\"dataframe\">\n",
       "  <thead>\n",
       "    <tr style=\"text-align: right;\">\n",
       "      <th></th>\n",
       "      <th>body</th>\n",
       "      <th>processed_text</th>\n",
       "    </tr>\n",
       "  </thead>\n",
       "  <tbody>\n",
       "    <tr>\n",
       "      <th>0</th>\n",
       "      <td>Worrying part of the U.K. known cases are all ...</td>\n",
       "      <td>worrying part of the uk known cases are all pe...</td>\n",
       "    </tr>\n",
       "    <tr>\n",
       "      <th>1</th>\n",
       "      <td>Surely it’s going to hit at all large multi-na...</td>\n",
       "      <td>surely it’s going to hit at all large multi-na...</td>\n",
       "    </tr>\n",
       "    <tr>\n",
       "      <th>2</th>\n",
       "      <td>I’m not sure Bath is considered large! It is i...</td>\n",
       "      <td>i’m not sure bath is considered large it is in...</td>\n",
       "    </tr>\n",
       "    <tr>\n",
       "      <th>3</th>\n",
       "      <td>Try screwfix and shops like that, paint suppli...</td>\n",
       "      <td>try screwfix and shops like that paint supplie...</td>\n",
       "    </tr>\n",
       "    <tr>\n",
       "      <th>4</th>\n",
       "      <td>Adding to above wickes is a good shout or most...</td>\n",
       "      <td>adding to above wickes is a good shout or most...</td>\n",
       "    </tr>\n",
       "  </tbody>\n",
       "</table>\n",
       "</div>"
      ],
      "text/plain": [
       "                                                body  \\\n",
       "0  Worrying part of the U.K. known cases are all ...   \n",
       "1  Surely it’s going to hit at all large multi-na...   \n",
       "2  I’m not sure Bath is considered large! It is i...   \n",
       "3  Try screwfix and shops like that, paint suppli...   \n",
       "4  Adding to above wickes is a good shout or most...   \n",
       "\n",
       "                                      processed_text  \n",
       "0  worrying part of the uk known cases are all pe...  \n",
       "1  surely it’s going to hit at all large multi-na...  \n",
       "2  i’m not sure bath is considered large it is in...  \n",
       "3  try screwfix and shops like that paint supplie...  \n",
       "4  adding to above wickes is a good shout or most...  "
      ]
     },
     "execution_count": 23,
     "metadata": {},
     "output_type": "execute_result"
    }
   ],
   "source": [
    "comments = c_df\n",
    "\n",
    "comments = comments.reset_index().drop(columns=['id', 'datetime', 'sentiment', 'compound_score', 'submission_id', 'parent_id'], axis=1)\n",
    "\n",
    "comments.head()"
   ]
  },
  {
   "cell_type": "code",
   "execution_count": 25,
   "id": "designed-funds",
   "metadata": {
    "scrolled": true
   },
   "outputs": [
    {
     "name": "stdout",
     "output_type": "stream",
     "text": [
      "['worrying part of the uk known cases are all people would of been in a big '\n",
      " 'contact circle:']\n"
     ]
    }
   ],
   "source": [
    "# REMOVE EMAILS AND NEWLINE CHARACTERS\n",
    "\n",
    "data = comments['processed_text'].values.tolist()\n",
    "\n",
    "# Remove Emails\n",
    "data = [re.sub('\\S*@\\S*\\s?', '', sent) for sent in data]\n",
    "\n",
    "# Remove new line characters\n",
    "data = [re.sub('\\s+', ' ', sent) for sent in data]\n",
    "\n",
    "# Remove distracting single quotes\n",
    "data = [re.sub(\"\\'\", \"\", sent) for sent in data]\n",
    "\n",
    "pprint(data[:1])"
   ]
  },
  {
   "cell_type": "code",
   "execution_count": null,
   "id": "actual-nickel",
   "metadata": {},
   "outputs": [],
   "source": [
    "# EXPLORATORY ANALYSIS\n",
    "\n",
    "from wordcloud import WordCloud\n",
    "\n",
    "long_string = ','.join(list(comments['processed_text'].values))\n",
    "\n",
    "wordcloud = WordCloud(background_color=\"white\",\n",
    "                      max_words=5000,\n",
    "                      contour_width=3,\n",
    "                      contour_color='steelblue'\n",
    "                     )\n",
    "\n",
    "wordcloud.generate(long_string)\n",
    "\n",
    "wordcloud.to_image()"
   ]
  },
  {
   "cell_type": "code",
   "execution_count": 26,
   "id": "interracial-public",
   "metadata": {},
   "outputs": [
    {
     "name": "stdout",
     "output_type": "stream",
     "text": [
      "['worrying', 'part', 'of', 'the', 'uk', 'known', 'cases', 'are', 'all', 'people', 'would', 'of', 'been', 'in', 'big', 'contact', 'circle']\n"
     ]
    }
   ],
   "source": [
    "# Tokenize words and more text clean-up\n",
    "\n",
    "import gensim\n",
    "from gensim.utils import simple_preprocess\n",
    "\n",
    "def sent_to_words(sentences):\n",
    "    for sentence in sentences:\n",
    "        yield(gensim.utils.simple_preprocess(str(sentence),\n",
    "                                            deacc=True))\n",
    "        \n",
    "data_words = list(sent_to_words(data))\n",
    "\n",
    "print(data_words[:1][0][:30])"
   ]
  },
  {
   "cell_type": "code",
   "execution_count": 27,
   "id": "fancy-maldives",
   "metadata": {},
   "outputs": [
    {
     "name": "stdout",
     "output_type": "stream",
     "text": [
      "['worrying', 'part', 'of', 'the', 'uk', 'known', 'cases', 'are', 'all', 'people', 'would', 'of', 'been', 'in', 'big', 'contact', 'circle']\n"
     ]
    }
   ],
   "source": [
    "#Bigram and Trigram Phrase Modelling\n",
    "\n",
    "bigram = gensim.models.Phrases(data_words, \n",
    "                               min_count=5, \n",
    "                               threshold=100\n",
    "                              )\n",
    "trigram = gensim.models.Phrases(bigram[data_words], \n",
    "                                threshold=100\n",
    "                               )\n",
    "\n",
    "bigram_mod = gensim.models.phrases.Phraser(bigram)\n",
    "trigram_mod = gensim.models.phrases.Phraser(trigram)\n",
    "\n",
    "print(trigram_mod[bigram_mod[data_words[0]]])"
   ]
  },
  {
   "cell_type": "code",
   "execution_count": 28,
   "id": "latter-privilege",
   "metadata": {},
   "outputs": [],
   "source": [
    "#Remove Stopwords, Make Bigrams and Lemmantize\n",
    "\n",
    "import nltk\n",
    "# nltk.download('stopwords')\n",
    "from nltk.corpus import stopwords\n",
    "\n",
    "stop_words = stopwords.words('english')\n",
    "stop_words.extend(['from',\n",
    "                   'subject', \n",
    "                   're', \n",
    "                   'edu', \n",
    "                   'use'])"
   ]
  },
  {
   "cell_type": "code",
   "execution_count": 29,
   "id": "stuck-toddler",
   "metadata": {},
   "outputs": [],
   "source": [
    "#Define functions for stopwords, bigrams, trigrams and lemmatization\n",
    "\n",
    "def remove_stopwords(texts):\n",
    "    return [[word for word in simple_preprocess(str(doc)) if word not in stop_words] for doc in texts]\n",
    "\n",
    "def make_bigrams(texts):\n",
    "    return [bigram_mod[doc] for doc in texts]\n",
    "\n",
    "def make_trigrams(texts):\n",
    "    return [trigram_mod[bigram_mod[doc]] for doc in texts]\n",
    "\n",
    "def lemmatization(texts, allowed_postags=['NOUN', 'ADJ', 'VERB', 'ADV']):\n",
    "    texts_out = []\n",
    "    for sent in texts:\n",
    "        doc = nlp(\" \".join(sent))\n",
    "        texts_out.append([token.lemma_ for token in doc if token.pos_ in allowed_postags])\n",
    "    return texts_out"
   ]
  },
  {
   "cell_type": "code",
   "execution_count": 30,
   "id": "composite-divorce",
   "metadata": {},
   "outputs": [
    {
     "name": "stdout",
     "output_type": "stream",
     "text": [
      "[['worry', 'part', 'uk', 'know', 'case', 'people', 'big', 'contact', 'circle']]\n"
     ]
    }
   ],
   "source": [
    "import spacy\n",
    "\n",
    "data_words_nostops = remove_stopwords(data_words)\n",
    "\n",
    "data_words_bigrams = make_bigrams(data_words_nostops)\n",
    "\n",
    "nlp = spacy.load(\"en_core_web_sm\", disable=['parser',\n",
    "                                            'ner'])\n",
    "\n",
    "data_lemmatized = lemmatization(data_words_bigrams)\n",
    "\n",
    "print(data_lemmatized[:1])"
   ]
  },
  {
   "cell_type": "code",
   "execution_count": 31,
   "id": "advisory-composition",
   "metadata": {},
   "outputs": [
    {
     "name": "stdout",
     "output_type": "stream",
     "text": [
      "[[(0, 1), (1, 1), (2, 1), (3, 1), (4, 1), (5, 1), (6, 1), (7, 1), (8, 1)]]\n"
     ]
    }
   ],
   "source": [
    "#Data Tranformation: Corpus and Dictionary\n",
    "\n",
    "import gensim.corpora as corpora\n",
    "\n",
    "id2word = corpora.Dictionary(data_lemmatized)\n",
    "# id2word = corpora.Dictionary(data_lemmatized)\n",
    "texts = data_lemmatized\n",
    "# texts = data_lemmatized\n",
    "corpus = [id2word.doc2bow(text) for text in texts]\n",
    "\n",
    "print(corpus[:1])"
   ]
  },
  {
   "cell_type": "code",
   "execution_count": 32,
   "id": "valid-distributor",
   "metadata": {},
   "outputs": [],
   "source": [
    "# Building LDA model\n",
    "\n",
    "def build_lda(num_topics):\n",
    "    return gensim.models.LdaModel(corpus=corpus,\n",
    "                                  id2word=id2word,\n",
    "                                  num_topics=num_topics,\n",
    "                                  random_state=100,\n",
    "                                  update_every=1,\n",
    "                                  chunksize=100,\n",
    "                                  passes=10,\n",
    "                                  alpha='auto',\n",
    "                                  per_word_topics=True)"
   ]
  },
  {
   "cell_type": "code",
   "execution_count": 33,
   "id": "committed-dealing",
   "metadata": {},
   "outputs": [
    {
     "name": "stderr",
     "output_type": "stream",
     "text": [
      "100%|██████████| 10/10 [5:57:12<00:00, 2143.23s/it] \n"
     ]
    },
    {
     "data": {
      "text/plain": [
       "[<matplotlib.lines.Line2D at 0x7fbacb3d1550>]"
      ]
     },
     "execution_count": 33,
     "metadata": {},
     "output_type": "execute_result"
    },
    {
     "data": {
      "image/png": "[encoded data removed]",
      "text/plain": [
       "<Figure size 1000x500 with 1 Axes>"
      ]
     },
     "metadata": {
      "needs_background": "light"
     },
     "output_type": "display_data"
    }
   ],
   "source": [
    "# METHOD FOR TESTING COHERENCE SCORE FOR DIFFERING NUMBERS OF TOPICS\n",
    "\n",
    "from gensim.models import CoherenceModel\n",
    "\n",
    "topic_coherence = []\n",
    "num_topics = 10\n",
    "\n",
    "for n in trange(1, num_topics + 1):\n",
    "    \n",
    "    lda_model = build_lda(n)\n",
    "    \n",
    "    # Compute Perplexity\n",
    "    topic_perplexity = lda_model.log_perplexity(corpus)\n",
    "\n",
    "    # Compute Coherence Score\n",
    "    coherence_model_lda = CoherenceModel(model=lda_model, \n",
    "                                         texts=data_lemmatized, \n",
    "                                         dictionary=id2word, \n",
    "                                         coherence='c_v')\n",
    "    \n",
    "    topic_coherence.append(coherence_model_lda.get_coherence())\n",
    "\n",
    "\n",
    "x = [i for i in range(1, num_topics + 1)]\n",
    "\n",
    "fig, ax1 = plt.subplots(1, dpi=100)\n",
    "fig.set_size_inches(10, 5)\n",
    "\n",
    "ax1.set_title('Topic Coherence Score')\n",
    "ax1.set_xlabel('Num of Topics')\n",
    "ax1.set_ylabel('Coherence Score')\n",
    "ax1.set_xticks(x)\n",
    "ax1.plot(x, topic_coherence, alpha=0.5)"
   ]
  },
  {
   "cell_type": "code",
   "execution_count": 45,
   "id": "naughty-philadelphia",
   "metadata": {},
   "outputs": [
    {
     "name": "stderr",
     "output_type": "stream",
     "text": [
      "/Users/ollyjc/Documents/GitHub/COVID-19-Sentiment-and-Compliance-Analyzer/.venv/lib/python3.9/site-packages/ipykernel/ipkernel.py:283: DeprecationWarning: `should_run_async` will not call `transform_cell` automatically in the future. Please pass the result to `transformed_cell` argument and any exception that happen during thetransform in `preprocessing_exc_tuple` in IPython 7.17 and above.\n",
      "  and should_run_async(code)\n"
     ]
    },
    {
     "data": {
      "text/plain": [
       "[(0,\n",
       "  '0.034*\"work\" + 0.031*\"school\" + 0.020*\"home\" + 0.016*\"tier\" + 0.013*\"mask\" + 0.011*\"open\" + 0.011*\"kid\" + 0.011*\"close\" + 0.010*\"child\" + 0.010*\"go\"'),\n",
       " (1,\n",
       "  '0.026*\"people\" + 0.019*\"get\" + 0.017*\"do\" + 0.014*\"go\" + 0.012*\"think\" + 0.011*\"say\" + 0.010*\"make\" + 0.009*\"know\" + 0.009*\"see\" + 0.008*\"s\"'),\n",
       " (2,\n",
       "  '0.024*\"covid\" + 0.022*\"vaccine\" + 0.018*\"case\" + 0.015*\"test\" + 0.014*\"day\" + 0.013*\"number\" + 0.013*\"dose\" + 0.012*\"death\" + 0.010*\"https\" + 0.010*\"hospital\"')]"
      ]
     },
     "execution_count": 45,
     "metadata": {},
     "output_type": "execute_result"
    }
   ],
   "source": [
    "three_topics_lda = build_lda(3)\n",
    "three_topics_lda.print_topics()"
   ]
  },
  {
   "cell_type": "code",
   "execution_count": 36,
   "id": "pending-kitty",
   "metadata": {},
   "outputs": [
    {
     "name": "stderr",
     "output_type": "stream",
     "text": [
      "/Users/ollyjc/Documents/GitHub/COVID-19-Sentiment-and-Compliance-Analyzer/.venv/lib/python3.9/site-packages/ipykernel/ipkernel.py:283: DeprecationWarning: `should_run_async` will not call `transform_cell` automatically in the future. Please pass the result to `transformed_cell` argument and any exception that happen during thetransform in `preprocessing_exc_tuple` in IPython 7.17 and above.\n",
      "  and should_run_async(code)\n"
     ]
    }
   ],
   "source": [
    "four_topics_lda = build_lda(4)\n",
    "four_topics_lda.print_topics()"
   ]
  },
  {
   "cell_type": "code",
   "execution_count": null,
   "id": "given-tourist",
   "metadata": {},
   "outputs": [],
   "source": [
    "five_topics_lda = build_lda(5)\n",
    "five_topics_lda.print_topics()"
   ]
  },
  {
   "cell_type": "code",
   "execution_count": 39,
   "id": "piano-winner",
   "metadata": {},
   "outputs": [
    {
     "name": "stderr",
     "output_type": "stream",
     "text": [
      "/Users/ollyjc/Documents/GitHub/COVID-19-Sentiment-and-Compliance-Analyzer/.venv/lib/python3.9/site-packages/ipykernel/ipkernel.py:283: DeprecationWarning: `should_run_async` will not call `transform_cell` automatically in the future. Please pass the result to `transformed_cell` argument and any exception that happen during thetransform in `preprocessing_exc_tuple` in IPython 7.17 and above.\n",
      "  and should_run_async(code)\n"
     ]
    },
    {
     "data": {
      "text/plain": [
       "[(0,\n",
       "  '0.038*\"want\" + 0.028*\"mask\" + 0.025*\"open\" + 0.025*\"kid\" + 0.022*\"family\" + 0.019*\"change\" + 0.018*\"able\" + 0.018*\"friend\" + 0.017*\"wear\" + 0.017*\"issue\"'),\n",
       " (1,\n",
       "  '0.028*\"say\" + 0.028*\"day\" + 0.024*\"make\" + 0.022*\"see\" + 0.020*\"week\" + 0.019*\"m\" + 0.019*\"year\" + 0.017*\"really\" + 0.017*\"thing\" + 0.016*\"good\"'),\n",
       " (2,\n",
       "  '0.043*\"covid\" + 0.024*\"number\" + 0.022*\"death\" + 0.017*\"hospital\" + 0.014*\"high\" + 0.014*\"close\" + 0.011*\"care\" + 0.011*\"likely\" + 0.010*\"health\" + 0.010*\"comment\"'),\n",
       " (3,\n",
       "  '0.057*\"school\" + 0.039*\"test\" + 0.037*\"be\" + 0.032*\"re\" + 0.031*\"first\" + 0.022*\"hope\" + 0.019*\"child\" + 0.015*\"reason\" + 0.015*\"pandemic\" + 0.014*\"problem\"'),\n",
       " (4,\n",
       "  '0.045*\"get\" + 0.040*\"go\" + 0.040*\"do\" + 0.027*\"think\" + 0.023*\"work\" + 0.022*\"time\" + 0.021*\"know\" + 0.019*\"s\" + 0.019*\"well\" + 0.017*\"need\"'),\n",
       " (5,\n",
       "  '0.079*\"people\" + 0.028*\"vaccine\" + 0.023*\"case\" + 0.021*\"lockdown\" + 0.020*\"government\" + 0.016*\"dose\" + 0.015*\"bad\" + 0.015*\"many\" + 0.014*\"new\" + 0.013*\"point\"')]"
      ]
     },
     "execution_count": 39,
     "metadata": {},
     "output_type": "execute_result"
    }
   ],
   "source": [
    "six_topics_lda = build_lda(6)\n",
    "six_topics_lda.print_topics()"
   ]
  },
  {
   "cell_type": "code",
   "execution_count": 42,
   "id": "fitting-investment",
   "metadata": {},
   "outputs": [
    {
     "name": "stderr",
     "output_type": "stream",
     "text": [
      "/Users/ollyjc/Documents/GitHub/COVID-19-Sentiment-and-Compliance-Analyzer/.venv/lib/python3.9/site-packages/ipykernel/ipkernel.py:283: DeprecationWarning: `should_run_async` will not call `transform_cell` automatically in the future. Please pass the result to `transformed_cell` argument and any exception that happen during thetransform in `preprocessing_exc_tuple` in IPython 7.17 and above.\n",
      "  and should_run_async(code)\n"
     ]
    },
    {
     "data": {
      "text/plain": [
       "[(0,\n",
       "  '0.063*\"go\" + 0.037*\"work\" + 0.034*\"time\" + 0.030*\"week\" + 0.024*\"still\" + 0.021*\"home\" + 0.021*\"back\" + 0.021*\"ni\" + 0.021*\"tier\" + 0.020*\"come\"'),\n",
       " (1,\n",
       "  '0.060*\"need\" + 0.041*\"death\" + 0.038*\"month\" + 0.026*\"restriction\" + 0.025*\"thank\" + 0.023*\"rate\" + 0.021*\"use\" + 0.019*\"nhs\" + 0.019*\"issue\" + 0.016*\"result\"'),\n",
       " (2,\n",
       "  '0.048*\"school\" + 0.031*\"also\" + 0.029*\"number\" + 0.022*\"risk\" + 0.018*\"high\" + 0.017*\"close\" + 0.014*\"care\" + 0.014*\"stay\" + 0.013*\"reason\" + 0.012*\"post\"'),\n",
       " (3,\n",
       "  '0.053*\"government\" + 0.024*\"child\" + 0.019*\"pandemic\" + 0.018*\"follow\" + 0.017*\"march\" + 0.016*\"different\" + 0.015*\"job\" + 0.015*\"travel\" + 0.014*\"break\" + 0.014*\"possible\"'),\n",
       " (4,\n",
       "  '0.052*\"day\" + 0.048*\"covid\" + 0.035*\"case\" + 0.029*\"test\" + 0.026*\"dose\" + 0.025*\"long\" + 0.021*\"new\" + 0.020*\"https\" + 0.019*\"hospital\" + 0.019*\"rule\"'),\n",
       " (5,\n",
       "  '0.095*\"people\" + 0.034*\"vaccine\" + 0.027*\"year\" + 0.025*\"lockdown\" + 0.024*\"take\" + 0.021*\"give\" + 0.018*\"bad\" + 0.017*\"first\" + 0.016*\"point\" + 0.016*\"mean\"'),\n",
       " (6,\n",
       "  '0.040*\"get\" + 0.035*\"do\" + 0.024*\"think\" + 0.023*\"say\" + 0.020*\"make\" + 0.019*\"know\" + 0.018*\"see\" + 0.017*\"s\" + 0.017*\"well\" + 0.016*\"m\"')]"
      ]
     },
     "execution_count": 42,
     "metadata": {},
     "output_type": "execute_result"
    }
   ],
   "source": [
    "seven_topics_lda = build_lda(7)\n",
    "seven_topics_lda.print_topics()"
   ]
  },
  {
   "cell_type": "code",
   "execution_count": 46,
   "id": "reduced-emerald",
   "metadata": {},
   "outputs": [
    {
     "name": "stderr",
     "output_type": "stream",
     "text": [
      "/Users/ollyjc/Documents/GitHub/COVID-19-Sentiment-and-Compliance-Analyzer/.venv/lib/python3.9/site-packages/ipykernel/ipkernel.py:283: DeprecationWarning: `should_run_async` will not call `transform_cell` automatically in the future. Please pass the result to `transformed_cell` argument and any exception that happen during thetransform in `preprocessing_exc_tuple` in IPython 7.17 and above.\n",
      "  and should_run_async(code)\n"
     ]
    },
    {
     "data": {
      "text/html": [
       "\n",
       "<link rel=\"stylesheet\" type=\"text/css\" href=\"https://cdn.jsdelivr.net/gh/bmabey/pyLDAvis@3.3.1/pyLDAvis/js/ldavis.v1.0.0.css\">\n",
       "\n",
       "\n",
       "<div id=\"ldavis_el650031404402471695364366723072\"></div>\n",
       "<script type=\"text/javascript\">\n",
       "\n",
       "var ldavis_el650031404402471695364366723072_data = {\"mdsDat\": {\"x\": [-0.14994851732134845, -0.18799436984612067, 0.337942887167469], \"y\": [0.2787048328332368, -0.2585435629735493, -0.020161269859687338], \"topics\": [1, 2, 3], \"cluster\": [1, 1, 1], \"Freq\": [59.5255266795509, 22.725458214369834, 17.74901510607926]}, \"tinfo\": {\"Term\": [\"work\", \"school\", \"covid\", \"people\", \"vaccine\", \"case\", \"home\", \"get\", \"do\", \"test\", \"number\", \"tier\", \"dose\", \"death\", \"mask\", \"think\", \"open\", \"https\", \"go\", \"kid\", \"hospital\", \"close\", \"child\", \"day\", \"make\", \"staff\", \"high\", \"know\", \"datum\", \"week\", \"people\", \"get\", \"do\", \"think\", \"make\", \"s\", \"well\", \"m\", \"lockdown\", \"thing\", \"really\", \"even\", \"good\", \"be\", \"ve\", \"feel\", \"bad\", \"want\", \"re\", \"come\", \"way\", \"rule\", \"try\", \"right\", \"hope\", \"life\", \"sure\", \"happen\", \"actually\", \"probably\", \"know\", \"year\", \"lot\", \"see\", \"take\", \"much\", \"ni\", \"say\", \"government\", \"go\", \"time\", \"need\", \"still\", \"back\", \"give\", \"vaccine\", \"covid\", \"case\", \"test\", \"dose\", \"number\", \"death\", \"https\", \"hospital\", \"datum\", \"positive\", \"high\", \"rate\", \"infection\", \"low\", \"symptom\", \"population\", \"vaccinate\", \"patient\", \"vaccination\", \"uk\", \"pfizer\", \"result\", \"variant\", \"evidence\", \"figure\", \"report\", \"increase\", \"strain\", \"coronavirus\", \"spread\", \"level\", \"day\", \"new\", \"week\", \"virus\", \"nhs\", \"country\", \"also\", \"first\", \"school\", \"work\", \"home\", \"mask\", \"kid\", \"open\", \"child\", \"staff\", \"wear\", \"parent\", \"travel\", \"pay\", \"teacher\", \"office\", \"student\", \"shop\", \"house\", \"hour\", \"walk\", \"online\", \"face\", \"business\", \"sit\", \"education\", \"household\", \"bubble\", \"holiday\", \"law\", \"pub\", \"worker\", \"room\", \"close\", \"hand\", \"tier\", \"allow\", \"stay\", \"area\", \"send\", \"job\", \"go\", \"leave\", \"day\", \"family\", \"keep\"], \"Freq\": [58377.0, 53247.0, 54078.0, 153007.0, 49650.0, 40071.0, 34220.0, 112448.0, 99429.0, 32985.0, 29767.0, 32385.0, 29203.0, 26827.0, 22036.0, 68696.0, 19607.0, 22797.0, 99924.0, 19159.0, 21542.0, 18872.0, 17648.0, 61236.0, 55651.0, 16223.0, 17879.0, 53840.0, 17765.0, 45675.0, 153006.67136408592, 112447.6237300716, 99428.35608224095, 68695.43553564553, 55650.30665283603, 48626.52453875469, 46685.778935281305, 43919.216751967084, 40156.18347061668, 39406.02177860356, 40415.71982077997, 39949.52526434921, 38181.546179927784, 33780.03402737188, 30511.537599661864, 29486.010326575484, 29665.947950576778, 29331.81540689272, 29098.16453661608, 32009.98604415214, 27586.833964451962, 23029.93081009553, 21990.633776322233, 21813.259377850354, 20369.667731119644, 19402.131583594695, 20210.80431974747, 19309.413668438225, 17892.8645224716, 16784.765828139978, 53727.16285242013, 43643.166925718346, 26348.13468653782, 51196.23154018562, 40637.302114733146, 37677.472995888944, 32348.08667107827, 61624.67756577657, 36447.79282367367, 82853.0500941578, 47458.76047328462, 36181.41671563421, 32602.631264114905, 30714.20347777947, 30323.647645904573, 49649.8636533629, 54078.10000612302, 40071.008831620835, 32985.18232598483, 29202.576172327044, 29766.258674102875, 26827.14197911646, 22796.438349034644, 21541.908373298844, 17764.761285622597, 17278.11866978218, 17878.62415543198, 14804.552931791155, 11745.978544286321, 13592.53538096359, 12083.868811350183, 11339.082721250834, 11321.665750188782, 10092.973776460181, 9318.02603827481, 10031.04813951963, 9292.33613451579, 10042.406452387022, 8797.964641348457, 9556.457018624893, 8692.409671877973, 8928.192367581776, 8812.410391306388, 8008.323294331461, 7214.567592857203, 17381.5344423345, 8327.336691282633, 31132.61722565569, 16028.275386525256, 21282.07411070652, 11355.182234980113, 9580.824322750857, 10688.93244019883, 10914.836777056988, 10454.47028720797, 53246.49895897034, 58376.923441421044, 34219.62738146204, 22035.398976949615, 19159.069946679716, 19607.23992895251, 17648.04692458345, 16222.632346949158, 13648.169914817388, 11288.100497139416, 11093.31875491384, 10327.248563814921, 9501.103539623702, 9351.587168025888, 9117.405363786535, 8602.397209811506, 8801.265872090215, 8792.202837703526, 7125.048706069679, 6481.966855579052, 7530.94139605544, 6073.263604809898, 6611.181965890936, 5611.448466404529, 5355.201069138542, 5134.403365800385, 6297.485147913478, 5416.386792646226, 5109.325597027044, 5384.993093767193, 5421.374152435905, 18411.210165275083, 9064.28664855196, 28064.6615216985, 11105.300788410803, 13092.67008633798, 10854.23312855885, 7185.231174241993, 8364.198367996347, 17071.506847701585, 8376.31775670736, 12004.606340384875, 8129.908125430112, 7641.383823866988], \"Total\": [58377.0, 53247.0, 54078.0, 153007.0, 49650.0, 40071.0, 34220.0, 112448.0, 99429.0, 32985.0, 29767.0, 32385.0, 29203.0, 26827.0, 22036.0, 68696.0, 19607.0, 22797.0, 99924.0, 19159.0, 21542.0, 18872.0, 17648.0, 61236.0, 55651.0, 16223.0, 17879.0, 53840.0, 17765.0, 45675.0, 153007.44317414897, 112448.39610273956, 99429.1214742931, 68696.18532014296, 55651.10294976807, 48627.283545875674, 46686.55655436442, 43919.963008787665, 40156.92313863112, 39406.75687426801, 40416.48013553788, 39950.31944655564, 38182.315599613794, 33780.810351537715, 30512.280763343995, 29486.745708054113, 29666.70272274076, 29332.565883309722, 29098.913103305495, 32010.82271297674, 27587.600135548284, 23030.713877856582, 21991.39800358296, 21814.023401839077, 20370.400105888668, 19402.85924598485, 20211.577723875725, 19310.171350631503, 17893.641703833648, 16785.54039235423, 53840.85442344627, 43744.39624071219, 26352.82772263523, 51624.0131543986, 41072.0367675826, 38063.182254040825, 32855.909271804325, 64511.02557166079, 38734.84004068456, 99924.94323105499, 54509.81408834573, 42420.200192523116, 37086.21972278009, 33811.646271700585, 33193.091530868456, 49650.61584928988, 54078.95729544436, 40071.77980303196, 32985.962795208456, 29203.29316202072, 29767.00645961346, 26827.876743969962, 22797.142927147772, 21542.72906077188, 17765.47261585396, 17278.866405593257, 17879.485042062614, 14805.287839314911, 11746.735483450771, 13593.41670138341, 12084.662531739763, 11339.838869378613, 11322.462555007278, 10093.725259200022, 9318.758107011, 10031.839121066525, 9293.07191595412, 10043.204857514342, 8798.671780858753, 9557.262795975092, 8693.160482928688, 8928.967582722416, 8813.190904379175, 8009.041630231558, 7215.292993274632, 17383.91231313973, 8328.367028082419, 61236.972580585694, 24760.265367001302, 45675.32279836573, 23262.471710985417, 12540.95277222372, 23268.75136383206, 33108.80002454576, 27622.77709208109, 53247.20385375724, 58377.73813178032, 34220.32756175365, 22036.136687967723, 19159.765835035363, 19607.965371409657, 17648.751973274066, 16223.375661621785, 13648.868470612093, 11288.80925958722, 11094.056912654749, 10327.974374258869, 9501.794740126134, 9352.286889435885, 9118.103241391873, 8603.087373628978, 8801.98749559274, 8792.93202956453, 7125.767973056411, 6482.679614479927, 7531.782389013352, 6073.984360712527, 6612.008232422508, 5612.153464469828, 5355.884772564245, 5135.081235780686, 6298.3363882471585, 5417.121388000616, 5110.0241408601605, 5385.732891722129, 5422.140425893383, 18872.78379116255, 9408.739002961378, 32385.388654992275, 12462.888398782834, 15295.23588685479, 16229.994370492852, 8400.971818804372, 11456.155620946964, 99924.94323105499, 13610.698199871778, 61236.972580585694, 16730.7787156218, 23960.20057576651], \"Category\": [\"Default\", \"Default\", \"Default\", \"Default\", \"Default\", \"Default\", \"Default\", \"Default\", \"Default\", \"Default\", \"Default\", \"Default\", \"Default\", \"Default\", \"Default\", \"Default\", \"Default\", \"Default\", \"Default\", \"Default\", \"Default\", \"Default\", \"Default\", \"Default\", \"Default\", \"Default\", \"Default\", \"Default\", \"Default\", \"Default\", \"Topic1\", \"Topic1\", \"Topic1\", \"Topic1\", \"Topic1\", \"Topic1\", \"Topic1\", \"Topic1\", \"Topic1\", \"Topic1\", \"Topic1\", \"Topic1\", \"Topic1\", \"Topic1\", \"Topic1\", \"Topic1\", \"Topic1\", \"Topic1\", \"Topic1\", \"Topic1\", \"Topic1\", \"Topic1\", \"Topic1\", \"Topic1\", \"Topic1\", \"Topic1\", \"Topic1\", \"Topic1\", \"Topic1\", \"Topic1\", \"Topic1\", \"Topic1\", \"Topic1\", \"Topic1\", \"Topic1\", \"Topic1\", \"Topic1\", \"Topic1\", \"Topic1\", \"Topic1\", \"Topic1\", \"Topic1\", \"Topic1\", \"Topic1\", \"Topic1\", \"Topic2\", \"Topic2\", \"Topic2\", \"Topic2\", \"Topic2\", \"Topic2\", \"Topic2\", \"Topic2\", \"Topic2\", \"Topic2\", \"Topic2\", \"Topic2\", \"Topic2\", \"Topic2\", \"Topic2\", \"Topic2\", \"Topic2\", \"Topic2\", \"Topic2\", \"Topic2\", \"Topic2\", \"Topic2\", \"Topic2\", \"Topic2\", \"Topic2\", \"Topic2\", \"Topic2\", \"Topic2\", \"Topic2\", \"Topic2\", \"Topic2\", \"Topic2\", \"Topic2\", \"Topic2\", \"Topic2\", \"Topic2\", \"Topic2\", \"Topic2\", \"Topic2\", \"Topic2\", \"Topic3\", \"Topic3\", \"Topic3\", \"Topic3\", \"Topic3\", \"Topic3\", \"Topic3\", \"Topic3\", \"Topic3\", \"Topic3\", \"Topic3\", \"Topic3\", \"Topic3\", \"Topic3\", \"Topic3\", \"Topic3\", \"Topic3\", \"Topic3\", \"Topic3\", \"Topic3\", \"Topic3\", \"Topic3\", \"Topic3\", \"Topic3\", \"Topic3\", \"Topic3\", \"Topic3\", \"Topic3\", \"Topic3\", \"Topic3\", \"Topic3\", \"Topic3\", \"Topic3\", \"Topic3\", \"Topic3\", \"Topic3\", \"Topic3\", \"Topic3\", \"Topic3\", \"Topic3\", \"Topic3\", \"Topic3\", \"Topic3\", \"Topic3\"], \"logprob\": [30.0, 29.0, 28.0, 27.0, 26.0, 25.0, 24.0, 23.0, 22.0, 21.0, 20.0, 19.0, 18.0, 17.0, 16.0, 15.0, 14.0, 13.0, 12.0, 11.0, 10.0, 9.0, 8.0, 7.0, 6.0, 5.0, 4.0, 3.0, 2.0, 1.0, -3.6326, -3.9405, -4.0636, -4.4334, -4.6439, -4.7789, -4.8196, -4.8807, -4.9703, -4.9891, -4.9638, -4.9754, -5.0207, -5.1432, -5.2449, -5.2791, -5.273, -5.2844, -5.2924, -5.197, -5.3457, -5.5262, -5.5724, -5.5805, -5.649, -5.6977, -5.6568, -5.7024, -5.7786, -5.8426, -4.6791, -4.887, -5.3916, -4.7274, -4.9583, -5.034, -5.1865, -4.542, -5.0672, -4.246, -4.8032, -5.0745, -5.1786, -5.2383, -5.2511, -3.7951, -3.7097, -4.0095, -4.2041, -4.3259, -4.3067, -4.4107, -4.5735, -4.6301, -4.8229, -4.8507, -4.8165, -5.0052, -5.2366, -5.0906, -5.2082, -5.2719, -5.2734, -5.3883, -5.4682, -5.3944, -5.4709, -5.3933, -5.5256, -5.4429, -5.5377, -5.5109, -5.524, -5.6196, -5.724, -4.8447, -5.5806, -4.2619, -4.9258, -4.6422, -5.2704, -5.4404, -5.3309, -5.31, -5.3531, -3.478, -3.386, -3.9202, -4.3603, -4.5002, -4.4771, -4.5823, -4.6666, -4.8394, -5.0292, -5.0466, -5.1182, -5.2016, -5.2174, -5.2428, -5.3009, -5.2781, -5.2791, -5.4893, -5.5839, -5.4339, -5.6491, -5.5642, -5.7281, -5.7749, -5.817, -5.6128, -5.7635, -5.8219, -5.7693, -5.7626, -4.54, -5.2486, -4.1184, -5.0455, -4.8809, -5.0684, -5.4809, -5.329, -4.6155, -5.3276, -4.9677, -5.3574, -5.4194], \"loglift\": [30.0, 29.0, 28.0, 27.0, 26.0, 25.0, 24.0, 23.0, 22.0, 21.0, 20.0, 19.0, 18.0, 17.0, 16.0, 15.0, 14.0, 13.0, 12.0, 11.0, 10.0, 9.0, 8.0, 7.0, 6.0, 5.0, 4.0, 3.0, 2.0, 1.0, 0.5188, 0.5188, 0.5188, 0.5188, 0.5188, 0.5187, 0.5187, 0.5187, 0.5187, 0.5187, 0.5187, 0.5187, 0.5187, 0.5187, 0.5187, 0.5187, 0.5187, 0.5187, 0.5187, 0.5187, 0.5187, 0.5187, 0.5187, 0.5187, 0.5187, 0.5187, 0.5187, 0.5187, 0.5187, 0.5187, 0.5167, 0.5164, 0.5186, 0.5104, 0.5081, 0.5086, 0.5032, 0.473, 0.4579, 0.3314, 0.3802, 0.3597, 0.3899, 0.4227, 0.4284, 1.4817, 1.4817, 1.4817, 1.4817, 1.4817, 1.4817, 1.4817, 1.4817, 1.4816, 1.4816, 1.4816, 1.4816, 1.4816, 1.4816, 1.4816, 1.4816, 1.4816, 1.4816, 1.4816, 1.4816, 1.4816, 1.4816, 1.4816, 1.4816, 1.4816, 1.4816, 1.4816, 1.4816, 1.4816, 1.4816, 1.4815, 1.4816, 0.8052, 1.0468, 0.718, 0.7645, 1.2124, 0.7038, 0.372, 0.5101, 1.7288, 1.7288, 1.7288, 1.7288, 1.7288, 1.7288, 1.7288, 1.7288, 1.7288, 1.7288, 1.7288, 1.7288, 1.7288, 1.7288, 1.7288, 1.7288, 1.7288, 1.7288, 1.7287, 1.7287, 1.7287, 1.7287, 1.7287, 1.7287, 1.7287, 1.7287, 1.7287, 1.7287, 1.7287, 1.7287, 1.7287, 1.7041, 1.6915, 1.5856, 1.6135, 1.5734, 1.3265, 1.5725, 1.4143, -0.0382, 1.2434, 0.0994, 1.0071, 0.586]}, \"token.table\": {\"Topic\": [1, 1, 2, 3, 1, 2, 3, 2, 3, 1, 3, 1, 1, 3, 3, 2, 3, 2, 3, 1, 2, 1, 2, 2, 2, 1, 2, 3, 2, 1, 2, 3, 1, 2, 3, 1, 3, 1, 2, 1, 2, 1, 1, 2, 1, 3, 1, 1, 2, 1, 2, 3, 1, 2, 3, 3, 1, 2, 3, 3, 3, 2, 2, 2, 1, 3, 1, 3, 3, 1, 2, 3, 1, 3, 1, 2, 3, 1, 1, 1, 3, 2, 1, 1, 3, 1, 2, 1, 3, 1, 2, 3, 1, 2, 1, 3, 2, 3, 3, 3, 3, 2, 3, 1, 2, 2, 2, 1, 3, 2, 1, 1, 2, 2, 1, 3, 1, 1, 1, 2, 3, 1, 2, 2, 3, 3, 3, 1, 2, 3, 3, 1, 3, 1, 2, 3, 2, 3, 1, 2, 1, 2, 3, 2, 1, 1, 2, 3, 1, 2, 3, 3, 1, 2, 2, 2, 2, 2, 1, 1, 2, 3, 1, 1, 3, 1, 2, 1, 3, 3, 1, 2], \"Freq\": [0.9999641378851623, 0.10326659108378862, 0.005616675505722769, 0.891045449872162, 0.47349949223099586, 0.32967066133197165, 0.19683588638574984, 0.33117694789667257, 0.6687617846456714, 0.9083852277759918, 0.09159565834545311, 0.9999763127453924, 0.9999760114831681, 0.9997894413484343, 0.9998379382207676, 0.9999805398453526, 0.9999573922691415, 0.02442670912257628, 0.9755317606415442, 0.9999742989118363, 0.9999593927405436, 0.5405962616263223, 0.4593714476924842, 0.9999822981896798, 0.9999733969445014, 0.29557307027516816, 0.5084020108771719, 0.1960416966106847, 0.9999673196660948, 0.9999887208669204, 0.9999899613369255, 0.9997944702551115, 0.9999920039048482, 0.9998678705397089, 0.9998961216651063, 0.5140824671818238, 0.48593075900339816, 0.9999747103983092, 0.9998665062112948, 0.6215160750409027, 0.37845579266528406, 0.9999964774709709, 0.9135635941533106, 0.08643364831901622, 0.8291523349522473, 0.17084823316361225, 0.9999917344035102, 0.9409616758896484, 0.05904245370828649, 0.00010628416833384925, 0.03656175390684414, 0.9633597017780096, 0.9999393402259238, 0.9999728715865434, 0.9997878188517126, 0.9999904278603687, 0.9999803584668643, 0.9999661574552684, 0.9998940024145079, 0.9998878099300601, 0.9998348036595601, 0.9999498653339401, 0.9998648725084823, 0.9999373882682718, 0.26989856827245295, 0.7300878476813703, 0.6810460516972517, 0.31890384121943255, 0.9999600289981644, 0.9978853525883741, 0.0020987779857890125, 0.9997929919009937, 0.38455044136158334, 0.615398260765117, 0.00012007155744074441, 0.9998358588090788, 0.00012007155744074441, 0.9999557154966721, 0.9999770117190518, 0.9998168043791718, 0.00015178636775150625, 0.9999693453535219, 0.999978073551941, 0.9999801809899604, 0.9999484170939844, 0.9898541784692785, 0.010114761225964705, 0.8529191242802568, 0.14705258277162717, 0.3183326140964774, 0.6473274725625907, 0.03432919588708523, 0.23602672410631706, 0.7639770417779134, 0.9845413113482088, 0.015431014123084636, 0.9999661887528117, 0.9999693241407929, 0.9998951645738579, 0.9999507663650271, 0.999928313113579, 0.9999281475192362, 0.999905656789651, 0.9999971035778406, 0.999884654292594, 0.9999260245768679, 0.9999498574980025, 0.9999678060794233, 0.9997995819918009, 0.9999805583438812, 0.9999686207075071, 0.9999881203029984, 0.9998916355431406, 0.9998800325661544, 0.999953085140681, 0.999789672379576, 0.9999690032249817, 0.999994168996189, 0.955263064784873, 0.04473653882302869, 0.9999773912305228, 0.9917090298052094, 0.00827134455283273, 0.14462612495382934, 0.8552581957146205, 0.9998736065807827, 0.9998475149474915, 5.752445030708906e-05, 0.9998899952378221, 0.00011504890061417812, 0.999976844423157, 0.14396639687606705, 0.856018180880266, 0.8791135964708129, 0.06714084149349213, 0.053739637388164584, 0.9998699432117288, 0.9998790053849287, 0.9999714161910753, 0.9999451758178581, 0.989407957291128, 0.010566800045878129, 0.9999163589460865, 0.9999708119719156, 0.9999807932870389, 0.9999827454736032, 0.13339348945358612, 0.8665945096099293, 0.8706505570369721, 0.08958019911948281, 0.03977265445239376, 0.9999047316357694, 0.9999819018516742, 0.9999163542141777, 0.9999591471373802, 0.999918647205744, 0.9999875963413676, 0.9999236497422015, 0.9999907983494851, 0.511854464475375, 0.48812525775744375, 0.9998922259243754, 0.9999807080187948, 0.9999782461850493, 0.999936370504708, 0.5340520549287238, 0.46594087783352184, 0.9999880789159558, 0.9999873559373154, 0.9998639197790044, 0.9976820747472606, 0.0023088671619612153], \"Term\": [\"actually\", \"allow\", \"allow\", \"allow\", \"also\", \"also\", \"also\", \"area\", \"area\", \"back\", \"back\", \"bad\", \"be\", \"bubble\", \"business\", \"case\", \"child\", \"close\", \"close\", \"come\", \"coronavirus\", \"country\", \"country\", \"covid\", \"datum\", \"day\", \"day\", \"day\", \"death\", \"do\", \"dose\", \"education\", \"even\", \"evidence\", \"face\", \"family\", \"family\", \"feel\", \"figure\", \"first\", \"first\", \"get\", \"give\", \"give\", \"go\", \"go\", \"good\", \"government\", \"government\", \"hand\", \"hand\", \"hand\", \"happen\", \"high\", \"holiday\", \"home\", \"hope\", \"hospital\", \"hour\", \"house\", \"household\", \"https\", \"increase\", \"infection\", \"job\", \"job\", \"keep\", \"keep\", \"kid\", \"know\", \"know\", \"law\", \"leave\", \"leave\", \"level\", \"level\", \"level\", \"life\", \"lockdown\", \"lot\", \"lot\", \"low\", \"m\", \"make\", \"mask\", \"much\", \"much\", \"need\", \"need\", \"new\", \"new\", \"new\", \"nhs\", \"nhs\", \"ni\", \"ni\", \"number\", \"office\", \"online\", \"open\", \"parent\", \"patient\", \"pay\", \"people\", \"pfizer\", \"population\", \"positive\", \"probably\", \"pub\", \"rate\", \"re\", \"really\", \"report\", \"result\", \"right\", \"room\", \"rule\", \"s\", \"say\", \"say\", \"school\", \"see\", \"see\", \"send\", \"send\", \"shop\", \"sit\", \"spread\", \"spread\", \"spread\", \"staff\", \"stay\", \"stay\", \"still\", \"still\", \"still\", \"strain\", \"student\", \"sure\", \"symptom\", \"take\", \"take\", \"teacher\", \"test\", \"thing\", \"think\", \"tier\", \"tier\", \"time\", \"time\", \"time\", \"travel\", \"try\", \"uk\", \"vaccinate\", \"vaccination\", \"vaccine\", \"variant\", \"ve\", \"virus\", \"virus\", \"walk\", \"want\", \"way\", \"wear\", \"week\", \"week\", \"well\", \"work\", \"worker\", \"year\", \"year\"]}, \"R\": 30, \"lambda.step\": 0.01, \"plot.opts\": {\"xlab\": \"PC1\", \"ylab\": \"PC2\"}, \"topic.order\": [2, 3, 1]};\n",
       "\n",
       "function LDAvis_load_lib(url, callback){\n",
       "  var s = document.createElement('script');\n",
       "  s.src = url;\n",
       "  s.async = true;\n",
       "  s.onreadystatechange = s.onload = callback;\n",
       "  s.onerror = function(){console.warn(\"failed to load library \" + url);};\n",
       "  document.getElementsByTagName(\"head\")[0].appendChild(s);\n",
       "}\n",
       "\n",
       "if(typeof(LDAvis) !== \"undefined\"){\n",
       "   // already loaded: just create the visualization\n",
       "   !function(LDAvis){\n",
       "       new LDAvis(\"#\" + \"ldavis_el650031404402471695364366723072\", ldavis_el650031404402471695364366723072_data);\n",
       "   }(LDAvis);\n",
       "}else if(typeof define === \"function\" && define.amd){\n",
       "   // require.js is available: use it to load d3/LDAvis\n",
       "   require.config({paths: {d3: \"https://d3js.org/d3.v5\"}});\n",
       "   require([\"d3\"], function(d3){\n",
       "      window.d3 = d3;\n",
       "      LDAvis_load_lib(\"https://cdn.jsdelivr.net/gh/bmabey/pyLDAvis@3.3.1/pyLDAvis/js/ldavis.v3.0.0.js\", function(){\n",
       "        new LDAvis(\"#\" + \"ldavis_el650031404402471695364366723072\", ldavis_el650031404402471695364366723072_data);\n",
       "      });\n",
       "    });\n",
       "}else{\n",
       "    // require.js not available: dynamically load d3 & LDAvis\n",
       "    LDAvis_load_lib(\"https://d3js.org/d3.v5.js\", function(){\n",
       "         LDAvis_load_lib(\"https://cdn.jsdelivr.net/gh/bmabey/pyLDAvis@3.3.1/pyLDAvis/js/ldavis.v3.0.0.js\", function(){\n",
       "                 new LDAvis(\"#\" + \"ldavis_el650031404402471695364366723072\", ldavis_el650031404402471695364366723072_data);\n",
       "            })\n",
       "         });\n",
       "}\n",
       "</script>"
      ],
      "text/plain": [
       "PreparedData(topic_coordinates=              x         y  topics  cluster       Freq\n",
       "topic                                                \n",
       "1     -0.149949  0.278705       1        1  59.525527\n",
       "2     -0.187994 -0.258544       2        1  22.725458\n",
       "0      0.337943 -0.020161       3        1  17.749015, topic_info=        Term           Freq          Total Category  logprob  loglift\n",
       "368     work   58377.000000   58377.000000  Default  30.0000  30.0000\n",
       "558   school   53247.000000   53247.000000  Default  29.0000  29.0000\n",
       "915    covid   54078.000000   54078.000000  Default  28.0000  28.0000\n",
       "6     people  153007.000000  153007.000000  Default  27.0000  27.0000\n",
       "970  vaccine   49650.000000   49650.000000  Default  26.0000  26.0000\n",
       "..       ...            ...            ...      ...      ...      ...\n",
       "11        go   17071.506848   99924.943231   Topic3  -4.6155  -0.0382\n",
       "544    leave    8376.317757   13610.698200   Topic3  -5.3276   1.2434\n",
       "79       day   12004.606340   61236.972581   Topic3  -4.9677   0.0994\n",
       "455   family    8129.908125   16730.778716   Topic3  -5.3574   1.0071\n",
       "263     keep    7641.383824   23960.200576   Topic3  -5.4194   0.5860\n",
       "\n",
       "[159 rows x 6 columns], token_table=      Topic      Freq      Term\n",
       "term                           \n",
       "348       1  0.999964  actually\n",
       "389       1  0.103267     allow\n",
       "389       2  0.005617     allow\n",
       "389       3  0.891045     allow\n",
       "134       1  0.473499      also\n",
       "...     ...       ...       ...\n",
       "54        1  0.999988      well\n",
       "368       3  0.999987      work\n",
       "1023      3  0.999864    worker\n",
       "297       1  0.997682      year\n",
       "297       2  0.002309      year\n",
       "\n",
       "[172 rows x 3 columns], R=30, lambda_step=0.01, plot_opts={'xlab': 'PC1', 'ylab': 'PC2'}, topic_order=[2, 3, 1])"
      ]
     },
     "execution_count": 46,
     "metadata": {},
     "output_type": "execute_result"
    }
   ],
   "source": [
    "# Visualize LDA\n",
    "\n",
    "import pyLDAvis.gensim_models\n",
    "import os\n",
    "import pickle\n",
    "import pyLDAvis\n",
    "\n",
    "pyLDAvis.enable_notebook()\n",
    "vis = pyLDAvis.gensim_models.prepare(three_topics_lda,\n",
    "                                     corpus,\n",
    "                                     id2word)\n",
    "vis"
   ]
  },
  {
   "cell_type": "code",
   "execution_count": 49,
   "id": "coordinate-adams",
   "metadata": {},
   "outputs": [
    {
     "name": "stderr",
     "output_type": "stream",
     "text": [
      "/Users/ollyjc/Documents/GitHub/COVID-19-Sentiment-and-Compliance-Analyzer/.venv/lib/python3.9/site-packages/ipykernel/ipkernel.py:283: DeprecationWarning: `should_run_async` will not call `transform_cell` automatically in the future. Please pass the result to `transformed_cell` argument and any exception that happen during thetransform in `preprocessing_exc_tuple` in IPython 7.17 and above.\n",
      "  and should_run_async(code)\n"
     ]
    }
   ],
   "source": [
    "pyLDAvis.save_html(vis, '3_topic_lda_model.html')"
   ]
  }
 ],
 "metadata": {
  "kernelspec": {
   "display_name": "Python 3",
   "language": "python",
   "name": "python3"
  },
  "language_info": {
   "codemirror_mode": {
    "name": "ipython",
    "version": 3
   },
   "file_extension": ".py",
   "mimetype": "text/x-python",
   "name": "python",
   "nbconvert_exporter": "python",
   "pygments_lexer": "ipython3",
   "version": "3.9.1"
  }
 },
 "nbformat": 4,
 "nbformat_minor": 5
}
