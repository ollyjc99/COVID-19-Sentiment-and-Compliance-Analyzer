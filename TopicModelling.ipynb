{
 "cells": [
  {
   "cell_type": "code",
   "execution_count": 1,
   "id": "protecting-passing",
   "metadata": {},
   "outputs": [
    {
     "name": "stdout",
     "output_type": "stream",
     "text": [
      "Populating the interactive namespace from numpy and matplotlib\n"
     ]
    }
   ],
   "source": [
    "#Separate notebook to work on Topic Modelling with LDA\n",
    "%pylab inline\n",
    "from sys import platform\n",
    "from pprint import pprint\n",
    "import pandas as pd\n",
    "from tqdm import trange\n",
    "\n",
    "if platform == \"win32\":\n",
    "    path = 'C:/Users/olive/'\n",
    "elif platform == \"darwin\":\n",
    "    path = '~/'"
   ]
  },
  {
   "cell_type": "code",
   "execution_count": 2,
   "id": "enormous-society",
   "metadata": {},
   "outputs": [],
   "source": [
    "c_df = pd.read_pickle(path + 'OneDrive - Cardiff University/Individual Project/processed data/comments.csv')\n",
    "s_df = pd.read_pickle(path + 'OneDrive - Cardiff University/Individual Project/processed data/submissions.csv')\n",
    "\n",
    "s_df = s_df.sort_values(by='datetime')\n",
    "c_df = c_df.sort_values(by='datetime')"
   ]
  },
  {
   "cell_type": "code",
   "execution_count": 23,
   "id": "affected-neighborhood",
   "metadata": {},
   "outputs": [
    {
     "data": {
      "text/html": [
       "<div>\n",
       "<style scoped>\n",
       "    .dataframe tbody tr th:only-of-type {\n",
       "        vertical-align: middle;\n",
       "    }\n",
       "\n",
       "    .dataframe tbody tr th {\n",
       "        vertical-align: top;\n",
       "    }\n",
       "\n",
       "    .dataframe thead th {\n",
       "        text-align: right;\n",
       "    }\n",
       "</style>\n",
       "<table border=\"1\" class=\"dataframe\">\n",
       "  <thead>\n",
       "    <tr style=\"text-align: right;\">\n",
       "      <th></th>\n",
       "      <th>body</th>\n",
       "      <th>processed_text</th>\n",
       "    </tr>\n",
       "  </thead>\n",
       "  <tbody>\n",
       "    <tr>\n",
       "      <th>0</th>\n",
       "      <td>Worrying part of the U.K. known cases are all ...</td>\n",
       "      <td>worrying part of the uk known cases are all pe...</td>\n",
       "    </tr>\n",
       "    <tr>\n",
       "      <th>1</th>\n",
       "      <td>Surely it’s going to hit at all large multi-na...</td>\n",
       "      <td>surely it’s going to hit at all large multi-na...</td>\n",
       "    </tr>\n",
       "    <tr>\n",
       "      <th>2</th>\n",
       "      <td>I’m not sure Bath is considered large! It is i...</td>\n",
       "      <td>i’m not sure bath is considered large it is in...</td>\n",
       "    </tr>\n",
       "    <tr>\n",
       "      <th>3</th>\n",
       "      <td>Try screwfix and shops like that, paint suppli...</td>\n",
       "      <td>try screwfix and shops like that paint supplie...</td>\n",
       "    </tr>\n",
       "    <tr>\n",
       "      <th>4</th>\n",
       "      <td>Adding to above wickes is a good shout or most...</td>\n",
       "      <td>adding to above wickes is a good shout or most...</td>\n",
       "    </tr>\n",
       "  </tbody>\n",
       "</table>\n",
       "</div>"
      ],
      "text/plain": [
       "                                                body  \\\n",
       "0  Worrying part of the U.K. known cases are all ...   \n",
       "1  Surely it’s going to hit at all large multi-na...   \n",
       "2  I’m not sure Bath is considered large! It is i...   \n",
       "3  Try screwfix and shops like that, paint suppli...   \n",
       "4  Adding to above wickes is a good shout or most...   \n",
       "\n",
       "                                      processed_text  \n",
       "0  worrying part of the uk known cases are all pe...  \n",
       "1  surely it’s going to hit at all large multi-na...  \n",
       "2  i’m not sure bath is considered large it is in...  \n",
       "3  try screwfix and shops like that paint supplie...  \n",
       "4  adding to above wickes is a good shout or most...  "
      ]
     },
     "execution_count": 23,
     "metadata": {},
     "output_type": "execute_result"
    }
   ],
   "source": [
    "comments = c_df\n",
    "\n",
    "comments = comments.reset_index().drop(columns=['id', 'datetime', 'sentiment', 'compound_score', 'submission_id', 'parent_id'], axis=1)\n",
    "\n",
    "comments.head()"
   ]
  },
  {
   "cell_type": "code",
   "execution_count": 25,
   "id": "designed-funds",
   "metadata": {
    "scrolled": true
   },
   "outputs": [
    {
     "name": "stdout",
     "output_type": "stream",
     "text": [
      "['worrying part of the uk known cases are all people would of been in a big '\n",
      " 'contact circle:']\n"
     ]
    }
   ],
   "source": [
    "# REMOVE EMAILS AND NEWLINE CHARACTERS\n",
    "\n",
    "data = comments['processed_text'].values.tolist()\n",
    "\n",
    "# Remove Emails\n",
    "data = [re.sub('\\S*@\\S*\\s?', '', sent) for sent in data]\n",
    "\n",
    "# Remove new line characters\n",
    "data = [re.sub('\\s+', ' ', sent) for sent in data]\n",
    "\n",
    "# Remove distracting single quotes\n",
    "data = [re.sub(\"\\'\", \"\", sent) for sent in data]\n",
    "\n",
    "pprint(data[:1])"
   ]
  },
  {
   "cell_type": "code",
   "execution_count": null,
   "id": "actual-nickel",
   "metadata": {},
   "outputs": [],
   "source": [
    "# EXPLORATORY ANALYSIS\n",
    "\n",
    "from wordcloud import WordCloud\n",
    "\n",
    "long_string = ','.join(list(comments['processed_text'].values))\n",
    "\n",
    "wordcloud = WordCloud(background_color=\"white\",\n",
    "                      max_words=5000,\n",
    "                      contour_width=3,\n",
    "                      contour_color='steelblue'\n",
    "                     )\n",
    "\n",
    "wordcloud.generate(long_string)\n",
    "\n",
    "wordcloud.to_image()"
   ]
  },
  {
   "cell_type": "code",
   "execution_count": 26,
   "id": "interracial-public",
   "metadata": {},
   "outputs": [
    {
     "name": "stdout",
     "output_type": "stream",
     "text": [
      "['worrying', 'part', 'of', 'the', 'uk', 'known', 'cases', 'are', 'all', 'people', 'would', 'of', 'been', 'in', 'big', 'contact', 'circle']\n"
     ]
    }
   ],
   "source": [
    "# Tokenize words and more text clean-up\n",
    "\n",
    "import gensim\n",
    "from gensim.utils import simple_preprocess\n",
    "\n",
    "def sent_to_words(sentences):\n",
    "    for sentence in sentences:\n",
    "        yield(gensim.utils.simple_preprocess(str(sentence),\n",
    "                                            deacc=True))\n",
    "        \n",
    "data_words = list(sent_to_words(data))\n",
    "\n",
    "print(data_words[:1][0][:30])"
   ]
  },
  {
   "cell_type": "code",
   "execution_count": 27,
   "id": "fancy-maldives",
   "metadata": {},
   "outputs": [
    {
     "name": "stdout",
     "output_type": "stream",
     "text": [
      "['worrying', 'part', 'of', 'the', 'uk', 'known', 'cases', 'are', 'all', 'people', 'would', 'of', 'been', 'in', 'big', 'contact', 'circle']\n"
     ]
    }
   ],
   "source": [
    "#Bigram and Trigram Phrase Modelling\n",
    "\n",
    "bigram = gensim.models.Phrases(data_words, \n",
    "                               min_count=5, \n",
    "                               threshold=100\n",
    "                              )\n",
    "trigram = gensim.models.Phrases(bigram[data_words], \n",
    "                                threshold=100\n",
    "                               )\n",
    "\n",
    "bigram_mod = gensim.models.phrases.Phraser(bigram)\n",
    "trigram_mod = gensim.models.phrases.Phraser(trigram)\n",
    "\n",
    "print(trigram_mod[bigram_mod[data_words[0]]])"
   ]
  },
  {
   "cell_type": "code",
   "execution_count": 28,
   "id": "latter-privilege",
   "metadata": {},
   "outputs": [],
   "source": [
    "#Remove Stopwords, Make Bigrams and Lemmantize\n",
    "\n",
    "import nltk\n",
    "# nltk.download('stopwords')\n",
    "from nltk.corpus import stopwords\n",
    "\n",
    "stop_words = stopwords.words('english')\n",
    "stop_words.extend(['from',\n",
    "                   'subject', \n",
    "                   're', \n",
    "                   'edu', \n",
    "                   'use'])"
   ]
  },
  {
   "cell_type": "code",
   "execution_count": 29,
   "id": "stuck-toddler",
   "metadata": {},
   "outputs": [],
   "source": [
    "#Define functions for stopwords, bigrams, trigrams and lemmatization\n",
    "\n",
    "def remove_stopwords(texts):\n",
    "    return [[word for word in simple_preprocess(str(doc)) if word not in stop_words] for doc in texts]\n",
    "\n",
    "def make_bigrams(texts):\n",
    "    return [bigram_mod[doc] for doc in texts]\n",
    "\n",
    "def make_trigrams(texts):\n",
    "    return [trigram_mod[bigram_mod[doc]] for doc in texts]\n",
    "\n",
    "def lemmatization(texts, allowed_postags=['NOUN', 'ADJ', 'VERB', 'ADV']):\n",
    "    texts_out = []\n",
    "    for sent in texts:\n",
    "        doc = nlp(\" \".join(sent))\n",
    "        texts_out.append([token.lemma_ for token in doc if token.pos_ in allowed_postags])\n",
    "    return texts_out"
   ]
  },
  {
   "cell_type": "code",
   "execution_count": 30,
   "id": "composite-divorce",
   "metadata": {},
   "outputs": [
    {
     "name": "stdout",
     "output_type": "stream",
     "text": [
      "[['worry', 'part', 'uk', 'know', 'case', 'people', 'big', 'contact', 'circle']]\n"
     ]
    }
   ],
   "source": [
    "import spacy\n",
    "\n",
    "data_words_nostops = remove_stopwords(data_words)\n",
    "\n",
    "data_words_bigrams = make_bigrams(data_words_nostops)\n",
    "\n",
    "nlp = spacy.load(\"en_core_web_sm\", disable=['parser',\n",
    "                                            'ner'])\n",
    "\n",
    "data_lemmatized = lemmatization(data_words_bigrams)\n",
    "\n",
    "print(data_lemmatized[:1])"
   ]
  },
  {
   "cell_type": "code",
   "execution_count": 31,
   "id": "advisory-composition",
   "metadata": {},
   "outputs": [
    {
     "name": "stdout",
     "output_type": "stream",
     "text": [
      "[[(0, 1), (1, 1), (2, 1), (3, 1), (4, 1), (5, 1), (6, 1), (7, 1), (8, 1)]]\n"
     ]
    }
   ],
   "source": [
    "#Data Tranformation: Corpus and Dictionary\n",
    "\n",
    "import gensim.corpora as corpora\n",
    "\n",
    "id2word = corpora.Dictionary(data_lemmatized)\n",
    "# id2word = corpora.Dictionary(data_lemmatized)\n",
    "texts = data_lemmatized\n",
    "# texts = data_lemmatized\n",
    "corpus = [id2word.doc2bow(text) for text in texts]\n",
    "\n",
    "print(corpus[:1])"
   ]
  },
  {
   "cell_type": "code",
   "execution_count": 32,
   "id": "valid-distributor",
   "metadata": {},
   "outputs": [],
   "source": [
    "# Building LDA model\n",
    "\n",
    "def build_lda(num_topics):\n",
    "    return gensim.models.LdaModel(corpus=corpus,\n",
    "                                  id2word=id2word,\n",
    "                                  num_topics=num_topics,\n",
    "                                  random_state=100,\n",
    "                                  update_every=1,\n",
    "                                  chunksize=100,\n",
    "                                  passes=10,\n",
    "                                  alpha='auto',\n",
    "                                  per_word_topics=True)"
   ]
  },
  {
   "cell_type": "code",
   "execution_count": 33,
   "id": "committed-dealing",
   "metadata": {},
   "outputs": [
    {
     "name": "stderr",
     "output_type": "stream",
     "text": [
      "100%|██████████| 10/10 [5:57:12<00:00, 2143.23s/it] \n"
     ]
    },
    {
     "data": {
      "text/plain": [
       "[<matplotlib.lines.Line2D at 0x7fbacb3d1550>]"
      ]
     },
     "execution_count": 33,
     "metadata": {},
     "output_type": "execute_result"
    },
    {
     "data": {
      "image/png": "[encoded data removed]",
      "text/plain": [
       "<Figure size 1000x500 with 1 Axes>"
      ]
     },
     "metadata": {
      "needs_background": "light"
     },
     "output_type": "display_data"
    }
   ],
   "source": [
    "# METHOD FOR TESTING COHERENCE SCORE FOR DIFFERING NUMBERS OF TOPICS\n",
    "\n",
    "from gensim.models import CoherenceModel\n",
    "\n",
    "topic_coherence = []\n",
    "num_topics = 10\n",
    "\n",
    "for n in trange(1, num_topics + 1):\n",
    "    \n",
    "    lda_model = build_lda(n)\n",
    "    \n",
    "    # Compute Perplexity\n",
    "    topic_perplexity = lda_model.log_perplexity(corpus)\n",
    "\n",
    "    # Compute Coherence Score\n",
    "    coherence_model_lda = CoherenceModel(model=lda_model, \n",
    "                                         texts=data_lemmatized, \n",
    "                                         dictionary=id2word, \n",
    "                                         coherence='c_v')\n",
    "    \n",
    "    topic_coherence.append(coherence_model_lda.get_coherence())\n",
    "\n",
    "\n",
    "x = [i for i in range(1, num_topics + 1)]\n",
    "\n",
    "fig, ax1 = plt.subplots(1, dpi=100)\n",
    "fig.set_size_inches(10, 5)\n",
    "\n",
    "ax1.set_title('Topic Coherence Score')\n",
    "ax1.set_xlabel('Num of Topics')\n",
    "ax1.set_ylabel('Coherence Score')\n",
    "ax1.set_xticks(x)\n",
    "ax1.plot(x, topic_coherence, alpha=0.5)"
   ]
  },
  {
   "cell_type": "code",
   "execution_count": 27,
   "id": "natural-garlic",
   "metadata": {},
   "outputs": [
    {
     "data": {
      "text/html": [
       "\n",
       "<link rel=\"stylesheet\" type=\"text/css\" href=\"https://cdn.jsdelivr.net/gh/bmabey/pyLDAvis@3.3.1/pyLDAvis/js/ldavis.v1.0.0.css\">\n",
       "\n",
       "\n",
       "<div id=\"ldavis_el548611402883809444487338183594\"></div>\n",
       "<script type=\"text/javascript\">\n",
       "\n",
       "var ldavis_el548611402883809444487338183594_data = {\"mdsDat\": {\"x\": [-0.3995228667515282, -0.03963353162630267, -0.11342415235849448, 0.07689696608712641, 0.134999137322656, 0.11236221285816156, 0.1095590326710075, 0.11876320179737407], \"y\": [-0.1511177086752338, 0.42636367141253906, 0.05732439625412436, -0.08025949644788687, -0.0994563879902977, -0.09928160462654667, -0.015374949262819024, -0.038197920663879385], \"topics\": [1, 2, 3, 4, 5, 6, 7, 8], \"cluster\": [1, 1, 1, 1, 1, 1, 1, 1], \"Freq\": [21.324677194356344, 18.028436586471088, 17.72612541244013, 10.225806778165838, 9.942194259618297, 9.395113095657772, 7.703386168901822, 5.654260504388707]}, \"tinfo\": {\"Term\": [\"do\", \"people\", \"get\", \"go\", \"school\", \"day\", \"covid\", \"make\", \"think\", \"say\", \"case\", \"year\", \"see\", \"really\", \"work\", \"good\", \"time\", \"vaccine\", \"know\", \"test\", \"well\", \"want\", \"also\", \"m\", \"s\", \"need\", \"number\", \"week\", \"first\", \"ni\", \"people\", \"work\", \"time\", \"vaccine\", \"know\", \"s\", \"week\", \"take\", \"even\", \"still\", \"home\", \"back\", \"give\", \"come\", \"many\", \"re\", \"point\", \"virus\", \"hospital\", \"seem\", \"right\", \"start\", \"happen\", \"spread\", \"positive\", \"stop\", \"probably\", \"area\", \"already\", \"likely\", \"get\", \"go\", \"well\", \"m\", \"need\", \"thing\", \"ve\", \"feel\", \"month\", \"lot\", \"keep\", \"try\", \"sure\", \"life\", \"help\", \"enough\", \"place\", \"family\", \"bit\", \"vulnerable\", \"able\", \"friend\", \"issue\", \"person\", \"different\", \"situation\", \"else\", \"travel\", \"london\", \"christmas\", \"think\", \"say\", \"see\", \"lockdown\", \"government\", \"be\", \"tier\", \"bad\", \"way\", \"mean\", \"country\", \"look\", \"high\", \"restriction\", \"actually\", \"rate\", \"low\", \"agree\", \"far\", \"pretty\", \"post\", \"nhs\", \"health\", \"second\", \"vaccinate\", \"uk\", \"read\", \"believe\", \"wrong\", \"idea\", \"much\", \"day\", \"year\", \"really\", \"good\", \"ni\", \"tell\", \"last\", \"datum\", \"thank\", \"stay\", \"use\", \"old\", \"follow\", \"next\", \"news\", \"safe\", \"result\", \"rather\", \"report\", \"variant\", \"student\", \"today\", \"true\", \"summer\", \"clear\", \"amount\", \"later\", \"england\", \"yesterday\", \"matter\", \"covid\", \"case\", \"test\", \"death\", \"new\", \"hope\", \"d\", \"change\", \"reason\", \"pandemic\", \"symptom\", \"show\", \"infection\", \"march\", \"due\", \"have\", \"patient\", \"call\", \"expect\", \"increase\", \"figure\", \"hour\", \"base\", \"exactly\", \"coronavirus\", \"contact\", \"january\", \"question\", \"sound\", \"april\", \"make\", \"also\", \"number\", \"dose\", \"long\", \"risk\", \"end\", \"close\", \"staff\", \"put\", \"less\", \"comment\", \"group\", \"term\", \"decision\", \"early\", \"other\", \"age\", \"teacher\", \"hand\", \"consider\", \"little\", \"effect\", \"happy\", \"reduce\", \"sense\", \"set\", \"guess\", \"continue\", \"important\", \"do\", \"first\", \"live\", \"child\", \"die\", \"care\", \"find\", \"problem\", \"population\", \"job\", \"parent\", \"always\", \"whole\", \"support\", \"hear\", \"talk\", \"shop\", \"oxford\", \"course\", \"negative\", \"worry\", \"real\", \"anyway\", \"literally\", \"december\", \"law\", \"minute\", \"non\", \"sorry\", \"bubble\", \"school\", \"want\", \"https\", \"rule\", \"mask\", \"open\", \"kid\", \"wear\", \"pay\", \"send\", \"face\", \"local\", \"sit\", \"holiday\", \"article\", \"doctor\", \"nhttps\", \"education\", \"impact\", \"worker\", \"check\", \"member\", \"company\", \"manage\", \"fucking\", \"top\", \"offer\", \"option\", \"future\", \"doubt\"], \"Freq\": [99195.0, 152355.0, 115064.0, 102150.0, 51057.0, 62159.0, 58291.0, 53219.0, 69912.0, 65914.0, 43192.0, 42541.0, 52576.0, 39296.0, 57799.0, 37124.0, 54696.0, 53824.0, 53621.0, 35555.0, 47772.0, 28286.0, 32552.0, 44941.0, 48420.0, 43370.0, 30991.0, 47360.0, 28483.0, 31942.0, 152354.9114291612, 57798.91047454696, 54695.870351215795, 53823.50812750365, 53620.67816834482, 48419.320947778164, 47359.71651922429, 40934.64337944432, 39779.35839653096, 37136.17632688447, 33880.33143215954, 33649.3292513548, 33304.3025319125, 31873.72267551625, 29362.086892116367, 28974.095411517726, 25602.755216789497, 24165.583956109826, 23352.831960769312, 22479.668731851423, 21720.261753080496, 21227.425446515434, 19227.068390743007, 18844.59130019934, 18730.290752539076, 16959.68322123758, 16713.226465294534, 16573.403768632907, 15014.147733799551, 14214.926936037049, 115063.68874929003, 102149.93433521742, 47771.88257538618, 44940.92876239181, 43370.133697782294, 40322.67469774461, 31221.317500102865, 30171.85478541589, 27673.096427410255, 26965.107495218257, 24472.51401961125, 22502.158534406208, 20681.018332731477, 19853.38205482364, 19222.759296343564, 18319.17976093651, 17422.672380192147, 17072.047549393435, 15225.658743866421, 14899.226752253002, 14427.92491962582, 13895.69388004197, 13355.738787828715, 12502.531628600693, 12281.133535291547, 12215.52029050395, 12100.588802419668, 11287.033194235957, 11148.038593845871, 11029.949602468489, 69911.92900499527, 65913.19610081488, 52575.989437459975, 40867.312764153954, 39626.50738154884, 34378.26991897272, 33186.22933699099, 30191.20996678377, 28075.320766451372, 25873.232392654092, 24645.026535590052, 23797.845219923736, 19809.297186255855, 18708.697424236227, 18209.741452127808, 16402.83343455684, 15060.421614540464, 14943.93897684691, 14510.902284807325, 14283.488309352995, 13864.811193729125, 13627.197907964774, 13586.241828952041, 13366.819479210188, 12544.156939720964, 11114.239144564779, 11086.37274199759, 10897.350177075485, 10673.396939758439, 10574.797189073774, 38737.484345955665, 62158.78149199162, 42540.48243085207, 39295.98174846439, 37123.773869703684, 31942.145240717855, 20697.53352929878, 20521.274485716767, 18804.29541364992, 17015.7283435948, 14798.52644644654, 14072.353366395395, 13091.544296861417, 12679.592603527466, 12614.148441427878, 12596.49347463417, 11330.935474876422, 10630.269772537877, 10153.585669107712, 9450.877266286141, 9312.605787690456, 8814.202604271764, 8694.412613326764, 7799.115595277494, 7502.539457023664, 6739.730585459438, 6681.2428967764445, 6552.814698487502, 6353.51349365711, 6263.941031198665, 6250.529735322342, 58290.35790899682, 43192.01870978382, 35554.35261787814, 28916.534369719175, 25916.38611574792, 20167.05494053556, 15875.728267784349, 14449.825363519178, 13810.69822843316, 13794.743267089438, 13025.198496207497, 12690.209999595523, 12660.66587461663, 12490.04857536065, 11863.800594631733, 11483.01245010161, 10878.957433651254, 10859.354338450372, 10543.064552597632, 9498.75249029736, 9369.35352434019, 8655.079691175759, 8343.956145203128, 8143.228693292835, 7776.215088711295, 7440.256516051462, 7275.270697229154, 6921.545244744743, 6429.60420285335, 6284.03700280353, 53218.68483801203, 32551.921545660545, 30990.442242337776, 30403.365345293834, 29461.807543539224, 23500.48971283292, 19894.539223480733, 17986.626895967627, 15425.584504959079, 15201.357832160995, 13132.481941666983, 12497.31589719013, 10871.792846442653, 10483.30658520965, 10329.579651902033, 10030.223837505213, 9948.693977745392, 9102.890137342267, 9034.048614991978, 8977.142004212144, 8514.325947078749, 8044.456089341365, 7975.705556341845, 7160.258994752666, 6632.606222254449, 6529.660275537296, 6446.285542913057, 6308.91288244641, 6260.966171614003, 6169.409625546575, 99195.02952716827, 28482.2473662508, 20535.133071180186, 17506.603135974878, 16849.982245165447, 15468.49674896385, 14685.144304325504, 12680.526674634035, 12315.632393963864, 11381.146853961882, 11197.667091315943, 10112.130731056792, 9882.836981794235, 9780.966455052267, 9320.180537792432, 9238.24429320258, 8533.090153783065, 7453.683986202522, 6996.94628307963, 6725.57021135149, 6613.065278475066, 6544.555912912962, 6176.556095596918, 6088.818758754334, 5846.832331202265, 5372.82452543419, 5320.957391895445, 5295.201448713979, 5201.87358811149, 5093.084979959473, 51056.5275447539, 28285.68029276885, 23933.104634750092, 22208.55194663709, 21129.249488032754, 18800.722392434433, 18370.960899983165, 13086.742671192565, 9902.443914594789, 8165.285140481695, 7221.361461974219, 6398.682823832177, 6339.323880554877, 6038.733827460979, 5813.2879610913915, 5815.029025745999, 5540.278583002237, 5380.55560434853, 5340.316130333871, 5163.346785485091, 5014.606536839582, 4626.396202327064, 4625.0384584914755, 4605.196360395117, 4539.023620876944, 3875.0999355819677, 3871.6298330274203, 3866.805824963242, 3514.9290839703895, 3508.0433830899], \"Total\": [99195.0, 152355.0, 115064.0, 102150.0, 51057.0, 62159.0, 58291.0, 53219.0, 69912.0, 65914.0, 43192.0, 42541.0, 52576.0, 39296.0, 57799.0, 37124.0, 54696.0, 53824.0, 53621.0, 35555.0, 47772.0, 28286.0, 32552.0, 44941.0, 48420.0, 43370.0, 30991.0, 47360.0, 28483.0, 31942.0, 152355.76170322878, 57799.760887628094, 54696.72076277919, 53824.35847212081, 53621.52855432864, 48420.1712417373, 47360.56692467259, 40935.49372859451, 39780.20871889589, 37137.026674484696, 33881.1818118663, 33650.17971863325, 33305.1529421833, 31874.573092837694, 29362.937286361645, 28974.945741930936, 25603.60551532894, 24166.434006133728, 23353.682378584184, 22480.519054614328, 21721.112119671707, 21228.27576842226, 19227.918772136658, 18845.441515278035, 18731.141185780278, 16960.533625651406, 16714.076783293225, 16574.254258856297, 15014.997995350928, 14215.777154286556, 115064.53566225374, 102150.78122430683, 47772.7295731758, 44941.77566969203, 43370.98063902092, 40323.52156698092, 31222.164361515894, 30172.70184971413, 27673.943385815164, 26965.95436868306, 24473.36105674371, 22503.005698780467, 20681.86521206902, 19854.228986215785, 19223.606358556648, 18320.026828822316, 17423.519278229393, 17072.894348679245, 15226.505622509407, 14900.073691010522, 14428.771946954539, 13896.540720414232, 13356.585769997213, 12503.378528511503, 12281.980587872584, 12216.367303805933, 12101.435771211192, 11287.879987103357, 11148.885520241716, 11030.796144662487, 69912.7766074421, 65914.04374236663, 52576.836988331874, 40868.160086638345, 39627.35507335319, 34379.11756511769, 33187.0767392204, 30192.057730859044, 28076.168420278696, 25874.080003153864, 24645.87401768445, 23798.692816160103, 19810.1448428017, 18709.54471533176, 18210.58911207469, 16403.68109598297, 15061.269280524448, 14944.786665775047, 14511.750005384416, 14284.33588873583, 13865.65888393124, 13628.045536514283, 13587.089419166867, 13367.667791921738, 12545.004578242253, 11115.08658574139, 11087.220477909828, 10898.19787584939, 10674.244567293561, 10575.64485129783, 38772.25289389257, 62159.63466380535, 42541.33556422907, 39296.83507686746, 37124.62712948849, 31942.998674288927, 20698.386898824785, 20522.127653903226, 18805.148695198433, 17016.58147031079, 14799.379595870474, 14073.206780624492, 13092.397496145706, 12680.445894904458, 12615.001703643036, 12597.346514604233, 11331.788814698954, 10631.122969061304, 10154.438930032275, 9451.730370604932, 9313.458796780686, 8815.055756990452, 8695.265659106586, 7799.968735386759, 7503.392548846824, 6740.583966989159, 6682.096094182742, 6553.668171779345, 6354.366493163953, 6264.793977850704, 6251.383096578502, 58291.20886791993, 43192.869506050716, 35555.20346872465, 28917.385108473827, 25917.23705613427, 20167.90624099012, 15876.579331474037, 14450.676483269282, 13811.549456234883, 13795.594529441507, 13026.049419586223, 12691.061198231035, 12661.516829490029, 12490.899731434725, 11864.65161626538, 11483.863561980508, 10879.808263019931, 10860.205420682738, 10543.915547077688, 9499.603279650411, 9370.204313132062, 8655.931105662197, 8344.807310746553, 8144.079976599254, 7777.065947990291, 7441.107389512754, 7276.121508778617, 6922.3963627577, 6430.455374060155, 6284.88786332323, 53219.540114511015, 32552.776781182984, 30991.29729668973, 30404.220611554752, 29462.662779122864, 23501.344924255616, 19895.394411847956, 17987.482079091482, 15426.439870556818, 15202.213023138087, 13133.336976971606, 12498.17121472219, 10872.647740571898, 10484.161702561598, 10330.43513203517, 10031.079117021485, 9949.549021268274, 9103.745227109248, 9034.903722091842, 8977.997630369284, 8515.181272032669, 8045.311308613129, 7976.56059444115, 7161.114586508032, 6633.461223091927, 6530.515245550827, 6447.140955804141, 6309.767833962191, 6261.821360792842, 6170.264732970017, 99195.87964894365, 28483.0977087165, 20535.982997500276, 17507.453083179487, 16850.832155454293, 15469.346617386645, 14685.99437344115, 12681.376789884911, 12316.482706439649, 11381.996846200464, 11198.516907605626, 10112.98084403575, 9883.687125990144, 9781.816465947424, 9321.030629641466, 9239.094441403553, 8533.94034338406, 7454.534027581524, 6997.796378151329, 6726.420856491474, 6613.915285552275, 6545.4061433781935, 6177.405902192359, 6089.668712780182, 5847.682708921055, 5373.674799937464, 5321.807944232376, 5296.051777732453, 5202.723961939389, 5093.934625277227, 51057.3814467653, 28286.53454204137, 23933.95876037404, 22209.40628153059, 21130.103447688198, 18801.576401335285, 18371.814760425077, 13087.59656340051, 9903.2979911833, 8166.139415665377, 7222.215877323371, 6399.537014756527, 6340.178738628756, 6039.587801795878, 5814.14204212815, 5815.88402762128, 5541.133405591199, 5381.409432949246, 5341.1703977512125, 5164.200928896712, 5015.461006474599, 4627.250795380801, 4625.892884586125, 4606.050892656923, 4539.877758791469, 3875.9541861051275, 3872.4847548138673, 3867.6600512659966, 3515.783335067124, 3508.8976152909204], \"Category\": [\"Default\", \"Default\", \"Default\", \"Default\", \"Default\", \"Default\", \"Default\", \"Default\", \"Default\", \"Default\", \"Default\", \"Default\", \"Default\", \"Default\", \"Default\", \"Default\", \"Default\", \"Default\", \"Default\", \"Default\", \"Default\", \"Default\", \"Default\", \"Default\", \"Default\", \"Default\", \"Default\", \"Default\", \"Default\", \"Default\", \"Topic1\", \"Topic1\", \"Topic1\", \"Topic1\", \"Topic1\", \"Topic1\", \"Topic1\", \"Topic1\", \"Topic1\", \"Topic1\", \"Topic1\", \"Topic1\", \"Topic1\", \"Topic1\", \"Topic1\", \"Topic1\", \"Topic1\", \"Topic1\", \"Topic1\", \"Topic1\", \"Topic1\", \"Topic1\", \"Topic1\", \"Topic1\", \"Topic1\", \"Topic1\", \"Topic1\", \"Topic1\", \"Topic1\", \"Topic1\", \"Topic2\", \"Topic2\", \"Topic2\", \"Topic2\", \"Topic2\", \"Topic2\", \"Topic2\", \"Topic2\", \"Topic2\", \"Topic2\", \"Topic2\", \"Topic2\", \"Topic2\", \"Topic2\", \"Topic2\", \"Topic2\", \"Topic2\", \"Topic2\", \"Topic2\", \"Topic2\", \"Topic2\", \"Topic2\", \"Topic2\", \"Topic2\", \"Topic2\", \"Topic2\", \"Topic2\", \"Topic2\", \"Topic2\", \"Topic2\", \"Topic3\", \"Topic3\", \"Topic3\", \"Topic3\", \"Topic3\", \"Topic3\", \"Topic3\", \"Topic3\", \"Topic3\", \"Topic3\", \"Topic3\", \"Topic3\", \"Topic3\", \"Topic3\", \"Topic3\", \"Topic3\", \"Topic3\", \"Topic3\", \"Topic3\", \"Topic3\", \"Topic3\", \"Topic3\", \"Topic3\", \"Topic3\", \"Topic3\", \"Topic3\", \"Topic3\", \"Topic3\", \"Topic3\", \"Topic3\", \"Topic3\", \"Topic4\", \"Topic4\", \"Topic4\", \"Topic4\", \"Topic4\", \"Topic4\", \"Topic4\", \"Topic4\", \"Topic4\", \"Topic4\", \"Topic4\", \"Topic4\", \"Topic4\", \"Topic4\", \"Topic4\", \"Topic4\", \"Topic4\", \"Topic4\", \"Topic4\", \"Topic4\", \"Topic4\", \"Topic4\", \"Topic4\", \"Topic4\", \"Topic4\", \"Topic4\", \"Topic4\", \"Topic4\", \"Topic4\", \"Topic4\", \"Topic5\", \"Topic5\", \"Topic5\", \"Topic5\", \"Topic5\", \"Topic5\", \"Topic5\", \"Topic5\", \"Topic5\", \"Topic5\", \"Topic5\", \"Topic5\", \"Topic5\", \"Topic5\", \"Topic5\", \"Topic5\", \"Topic5\", \"Topic5\", \"Topic5\", \"Topic5\", \"Topic5\", \"Topic5\", \"Topic5\", \"Topic5\", \"Topic5\", \"Topic5\", \"Topic5\", \"Topic5\", \"Topic5\", \"Topic5\", \"Topic6\", \"Topic6\", \"Topic6\", \"Topic6\", \"Topic6\", \"Topic6\", \"Topic6\", \"Topic6\", \"Topic6\", \"Topic6\", \"Topic6\", \"Topic6\", \"Topic6\", \"Topic6\", \"Topic6\", \"Topic6\", \"Topic6\", \"Topic6\", \"Topic6\", \"Topic6\", \"Topic6\", \"Topic6\", \"Topic6\", \"Topic6\", \"Topic6\", \"Topic6\", \"Topic6\", \"Topic6\", \"Topic6\", \"Topic6\", \"Topic7\", \"Topic7\", \"Topic7\", \"Topic7\", \"Topic7\", \"Topic7\", \"Topic7\", \"Topic7\", \"Topic7\", \"Topic7\", \"Topic7\", \"Topic7\", \"Topic7\", \"Topic7\", \"Topic7\", \"Topic7\", \"Topic7\", \"Topic7\", \"Topic7\", \"Topic7\", \"Topic7\", \"Topic7\", \"Topic7\", \"Topic7\", \"Topic7\", \"Topic7\", \"Topic7\", \"Topic7\", \"Topic7\", \"Topic7\", \"Topic8\", \"Topic8\", \"Topic8\", \"Topic8\", \"Topic8\", \"Topic8\", \"Topic8\", \"Topic8\", \"Topic8\", \"Topic8\", \"Topic8\", \"Topic8\", \"Topic8\", \"Topic8\", \"Topic8\", \"Topic8\", \"Topic8\", \"Topic8\", \"Topic8\", \"Topic8\", \"Topic8\", \"Topic8\", \"Topic8\", \"Topic8\", \"Topic8\", \"Topic8\", \"Topic8\", \"Topic8\", \"Topic8\", \"Topic8\"], \"logprob\": [30.0, 29.0, 28.0, 27.0, 26.0, 25.0, 24.0, 23.0, 22.0, 21.0, 20.0, 19.0, 18.0, 17.0, 16.0, 15.0, 14.0, 13.0, 12.0, 11.0, 10.0, 9.0, 8.0, 7.0, 6.0, 5.0, 4.0, 3.0, 2.0, 1.0, -2.6103, -3.5795, -3.6347, -3.6508, -3.6546, -3.7566, -3.7787, -3.9245, -3.9531, -4.0219, -4.1137, -4.1205, -4.1308, -4.1747, -4.2568, -4.2701, -4.3938, -4.4516, -4.4858, -4.5239, -4.5582, -4.5812, -4.6802, -4.7003, -4.7064, -4.8057, -4.8203, -4.8287, -4.9275, -4.9822, -2.7231, -2.8421, -3.6021, -3.6632, -3.6988, -3.7717, -4.0275, -4.0617, -4.1481, -4.174, -4.271, -4.355, -4.4394, -4.4802, -4.5125, -4.5606, -4.6108, -4.6311, -4.7456, -4.7673, -4.7994, -4.837, -4.8766, -4.9426, -4.9605, -4.9659, -4.9753, -5.0449, -5.0573, -5.068, -3.2044, -3.2633, -3.4894, -3.7413, -3.7722, -3.9142, -3.9495, -4.0441, -4.1168, -4.1985, -4.2471, -4.2821, -4.4655, -4.5227, -4.5497, -4.6542, -4.7396, -4.7474, -4.7768, -4.7926, -4.8223, -4.8396, -4.8426, -4.8589, -4.9224, -5.0434, -5.046, -5.0631, -5.0839, -5.0932, -3.7949, -2.7719, -3.1511, -3.2304, -3.2873, -3.4376, -3.8715, -3.8801, -3.9675, -4.0674, -4.207, -4.2573, -4.3296, -4.3615, -4.3667, -4.3681, -4.474, -4.5378, -4.5837, -4.6554, -4.6702, -4.7252, -4.7389, -4.8475, -4.8863, -4.9935, -5.0022, -5.0216, -5.0525, -5.0667, -5.0689, -2.808, -3.1078, -3.3024, -3.509, -3.6185, -3.8694, -4.1086, -4.2027, -4.248, -4.2491, -4.3065, -4.3326, -4.3349, -4.3485, -4.3999, -4.4325, -4.4866, -4.4884, -4.5179, -4.6223, -4.636, -4.7153, -4.7519, -4.7762, -4.8223, -4.8665, -4.8889, -4.9388, -5.0125, -5.0354, -2.8424, -3.334, -3.3831, -3.4023, -3.4337, -3.6598, -3.8264, -3.9272, -4.0808, -4.0954, -4.2417, -4.2913, -4.4306, -4.467, -4.4818, -4.5112, -4.5194, -4.6082, -4.6158, -4.6221, -4.6751, -4.7318, -4.7404, -4.8483, -4.9248, -4.9405, -4.9533, -4.9749, -4.9825, -4.9972, -2.0212, -3.269, -3.5962, -3.7557, -3.7939, -3.8795, -3.9315, -4.0782, -4.1074, -4.1863, -4.2026, -4.3046, -4.3275, -4.3379, -4.3861, -4.3949, -4.4743, -4.6096, -4.6728, -4.7124, -4.7292, -4.7397, -4.7975, -4.8118, -4.8524, -4.9369, -4.9466, -4.9515, -4.9693, -4.9904, -2.3761, -2.9667, -3.1338, -3.2086, -3.2584, -3.3751, -3.3983, -3.7374, -4.0163, -4.2091, -4.332, -4.4529, -4.4623, -4.5108, -4.5489, -4.5486, -4.597, -4.6262, -4.6338, -4.6675, -4.6967, -4.7773, -4.7776, -4.7819, -4.7963, -4.9545, -4.9554, -4.9566, -5.052, -5.054], \"loglift\": [30.0, 29.0, 28.0, 27.0, 26.0, 25.0, 24.0, 23.0, 22.0, 21.0, 20.0, 19.0, 18.0, 17.0, 16.0, 15.0, 14.0, 13.0, 12.0, 11.0, 10.0, 9.0, 8.0, 7.0, 6.0, 5.0, 4.0, 3.0, 2.0, 1.0, 1.5453, 1.5453, 1.5453, 1.5453, 1.5453, 1.5453, 1.5453, 1.5453, 1.5453, 1.5453, 1.5453, 1.5453, 1.5453, 1.5453, 1.5453, 1.5453, 1.5453, 1.5453, 1.5453, 1.5453, 1.5453, 1.5453, 1.5453, 1.5453, 1.5453, 1.5453, 1.5453, 1.5453, 1.5452, 1.5452, 1.7132, 1.7132, 1.7132, 1.7132, 1.7132, 1.7132, 1.7132, 1.7132, 1.7132, 1.7132, 1.7132, 1.7132, 1.7132, 1.7132, 1.7132, 1.7132, 1.7132, 1.7132, 1.7132, 1.7132, 1.7132, 1.7132, 1.7132, 1.7132, 1.7132, 1.7132, 1.7131, 1.7131, 1.7131, 1.7131, 1.7301, 1.7301, 1.7301, 1.7301, 1.7301, 1.7301, 1.7301, 1.7301, 1.7301, 1.7301, 1.7301, 1.7301, 1.7301, 1.7301, 1.7301, 1.7301, 1.7301, 1.7301, 1.7301, 1.7301, 1.7301, 1.7301, 1.7301, 1.7301, 1.7301, 1.7301, 1.7301, 1.7301, 1.7301, 1.7301, 1.7292, 2.2802, 2.2802, 2.2802, 2.2802, 2.2802, 2.2802, 2.2802, 2.2802, 2.2802, 2.2802, 2.2802, 2.2802, 2.2802, 2.2802, 2.2802, 2.2802, 2.2802, 2.2802, 2.2802, 2.2802, 2.2802, 2.2802, 2.2801, 2.2801, 2.2801, 2.2801, 2.2801, 2.2801, 2.2801, 2.2801, 2.3084, 2.3084, 2.3084, 2.3084, 2.3083, 2.3083, 2.3083, 2.3083, 2.3083, 2.3083, 2.3083, 2.3083, 2.3083, 2.3083, 2.3083, 2.3083, 2.3083, 2.3083, 2.3083, 2.3083, 2.3083, 2.3083, 2.3083, 2.3083, 2.3083, 2.3083, 2.3083, 2.3083, 2.3083, 2.3082, 2.365, 2.365, 2.365, 2.365, 2.365, 2.3649, 2.3649, 2.3649, 2.3649, 2.3649, 2.3649, 2.3649, 2.3649, 2.3649, 2.3649, 2.3649, 2.3649, 2.3649, 2.3649, 2.3649, 2.3649, 2.3649, 2.3649, 2.3649, 2.3649, 2.3648, 2.3648, 2.3648, 2.3648, 2.3648, 2.5635, 2.5635, 2.5635, 2.5635, 2.5635, 2.5635, 2.5635, 2.5634, 2.5634, 2.5634, 2.5634, 2.5634, 2.5634, 2.5634, 2.5634, 2.5634, 2.5634, 2.5634, 2.5634, 2.5634, 2.5634, 2.5634, 2.5634, 2.5634, 2.5634, 2.5634, 2.5634, 2.5633, 2.5633, 2.5633, 2.8727, 2.8727, 2.8727, 2.8727, 2.8727, 2.8727, 2.8727, 2.8727, 2.8727, 2.8727, 2.8726, 2.8726, 2.8726, 2.8726, 2.8726, 2.8726, 2.8726, 2.8726, 2.8726, 2.8726, 2.8726, 2.8726, 2.8726, 2.8726, 2.8726, 2.8725, 2.8725, 2.8725, 2.8725, 2.8725]}, \"token.table\": {\"Topic\": [2, 3, 6, 3, 1, 6, 7, 4, 7, 5, 1, 8, 1, 3, 5, 3, 3, 2, 7, 5, 7, 5, 5, 8, 7, 2, 4, 6, 1, 6, 8, 6, 5, 6, 5, 3, 7, 5, 5, 4, 4, 5, 7, 6, 7, 2, 7, 8, 6, 8, 5, 6, 8, 6, 2, 6, 4, 2, 1, 5, 5, 8, 2, 3, 2, 5, 7, 7, 4, 2, 8, 8, 2, 1, 2, 4, 3, 6, 6, 6, 1, 6, 5, 3, 7, 2, 3, 8, 1, 5, 1, 5, 8, 3, 8, 6, 5, 5, 2, 5, 7, 2, 8, 1, 4, 4, 7, 6, 2, 1, 7, 6, 7, 8, 3, 2, 6, 3, 2, 3, 2, 6, 8, 1, 5, 8, 4, 3, 8, 7, 2, 2, 3, 2, 7, 5, 4, 4, 3, 8, 4, 7, 6, 8, 4, 8, 8, 6, 7, 5, 7, 5, 8, 1, 2, 2, 1, 7, 1, 3, 3, 1, 7, 6, 5, 3, 4, 1, 3, 7, 4, 5, 6, 4, 3, 4, 1, 6, 8, 1, 4, 3, 8, 3, 3, 1, 8, 6, 6, 7, 5, 8, 2, 7, 5, 1, 6, 1, 4, 1, 1, 4, 4, 7, 2, 5, 1, 7, 6, 4, 6, 5, 4, 2, 3, 3, 1, 4, 8, 2, 4, 2, 3, 4, 3, 1, 4, 2, 1, 2, 8, 3, 8, 1, 2, 7, 1, 8, 7, 3, 4, 4], \"Freq\": [0.9999464994694367, 0.9999676500265278, 0.9999181406014056, 0.9999473618598484, 0.9999335334342877, 0.9999761377903886, 0.9999030113820171, 0.9998359655163152, 0.9999342924524007, 0.9998587304431618, 0.9999243248693601, 0.9998035751242617, 0.9999649416840233, 0.9999649665859653, 0.999903255915147, 0.9999674929085782, 0.9998900849605563, 0.9999667932668241, 0.9998165219332441, 0.9998890057198695, 0.999912949304198, 0.9999798692223818, 0.9999531867404224, 0.9999080829311594, 0.9999741205544099, 0.999927825276431, 0.9999133655196614, 0.9999731991898942, 0.9999820203760525, 0.9999062891120575, 0.9998069811367445, 0.9998612745877121, 0.9998511794743999, 0.9998688303697093, 0.9998629369999664, 0.9999645369572276, 0.999886195866771, 0.9999792615740279, 0.9999635103089941, 0.999938915920472, 0.9999897897758122, 0.9999866824585839, 0.9998832513740848, 0.9999578786343838, 0.999950616358491, 0.9999201604443544, 0.9999911322028016, 0.9998479977219143, 0.9999598538778433, 0.9997441888053362, 0.9999450791909905, 0.9998924226387913, 0.9999239171532388, 0.999929719779031, 0.9999639901232027, 0.9999801757210844, 0.9999423242011068, 0.999943950473877, 0.9999696150690301, 0.9998673912090307, 0.9999131682083757, 0.9998316476073238, 0.9999476158722136, 0.9999483173714998, 0.9999767389172629, 0.999871474186494, 0.9999322910375787, 0.9999614610486638, 0.9999648360232634, 0.9999610895671728, 0.9998066558532839, 0.9997771947266173, 0.9999953446798299, 0.9999653824684337, 0.9999923522434437, 0.9999831074535429, 0.9999910396908265, 0.999940424762454, 0.9998783102671294, 0.9998888805265542, 0.999952216766279, 0.999844355722204, 0.9999248021385967, 0.9999198195335839, 0.9998894296475984, 0.9999684576064793, 0.9999422092664751, 0.9999026751799679, 0.999965118930241, 0.9999550651922271, 0.9999707806857556, 0.9998924314841661, 0.9999599414211565, 0.9999390248720625, 0.9997808724185798, 0.9997950277622192, 0.9999364942269007, 0.9999591810762495, 0.99995614373259, 0.9998458644791371, 0.9999124190408825, 0.9999852469490041, 0.9999556516089618, 0.999990142870916, 0.9999450518034854, 0.9998980461381578, 0.9998744248651832, 0.999898199751217, 0.9999380995244571, 0.9999453315651954, 0.9998901889722213, 0.9998370095869721, 0.999952132921984, 0.9999160853737874, 0.9999716139254645, 0.9999205732052672, 0.9999775044391666, 0.9999708884783944, 0.9999646083847058, 0.9999157255274568, 0.9999827405641972, 0.9999898511992051, 0.9997718451920281, 0.9999680792710721, 0.9999279690451393, 0.9999477784057741, 0.9999387181088435, 0.9999582592635667, 0.9997296893044895, 0.9998481823769586, 0.9999659106834898, 0.0008769157699720798, 0.9990907700414251, 0.9999773895123774, 0.9999374323283581, 0.9999522689810033, 0.9998931112514313, 0.9999205942522587, 0.9999232805238667, 0.9997954560000205, 0.9999687357377086, 0.9998014034271955, 0.9999581399682205, 0.9998748207302134, 0.9999696391630468, 0.9999693429251366, 0.9998293409303693, 0.9999448194820588, 0.9999283620438852, 0.9999569043987022, 0.999953841422941, 0.9999257098102842, 0.9998689334417225, 0.999995000496074, 0.9999697259016321, 0.9999701967081908, 0.999976350388285, 0.999960808093418, 0.9999390754802946, 0.9999524808783516, 0.9999064787648347, 0.9999355762626206, 0.9999702879355172, 0.9999202074634633, 0.9999427419730207, 0.9999584790768008, 0.999956774565754, 0.9999673600102875, 0.9998899202994781, 0.9999379498583745, 0.999978749513394, 0.9999602176253559, 0.9999304702211386, 0.9999227262547392, 0.9999708856981799, 0.9998943696668197, 0.9999488000584141, 0.9999427724557913, 0.999981706781107, 0.9999758108716417, 0.9999303892164024, 0.9999841650988565, 0.9999925290574155, 0.9999500442461517, 0.9999840806640373, 0.999976910915043, 0.9998604707062445, 0.9999211018531535, 0.9998230291827086, 0.999889811347839, 0.9999163822304172, 0.9998140843220122, 0.9999699334673886, 0.9998608494425834, 0.9999291847880646, 0.9999765717731963, 0.9999714859319124, 0.9999399024001677, 0.9999743505551693, 0.9999723544242328, 0.9999685372133222, 0.9998802325226798, 0.9999476838184503, 0.9999165322769787, 0.99995816566542, 0.9999194368490077, 0.9999879388630858, 0.9998815423513101, 0.9998999743528387, 0.9999813077788778, 0.9998891945207871, 0.9999661521069425, 0.999965829193613, 0.9999870654406994, 0.9999888917665729, 0.9999675554665793, 0.9999868225595769, 0.9998544427328381, 0.9997538190444696, 0.9999220414192601, 0.9998758026577255, 0.9999553082466436, 0.9999022422602821, 0.999914249776664, 0.999919922050567, 0.9999933399648229, 0.9999507383034921, 0.9999627072132985, 0.9999820409526032, 0.9999279405570208, 0.9999811025970475, 0.9999583839126049, 0.9999544176505121, 0.9999880296054418, 0.9999847282501478, 0.9999304787796918, 0.9999868357997264, 0.9997674511675191, 0.9998616121445834, 0.9998834046488522, 0.9999686054936603, 0.9998732635337233], \"Term\": [\"able\", \"actually\", \"age\", \"agree\", \"already\", \"also\", \"always\", \"amount\", \"anyway\", \"april\", \"area\", \"article\", \"back\", \"bad\", \"base\", \"be\", \"believe\", \"bit\", \"bubble\", \"call\", \"care\", \"case\", \"change\", \"check\", \"child\", \"christmas\", \"clear\", \"close\", \"come\", \"comment\", \"company\", \"consider\", \"contact\", \"continue\", \"coronavirus\", \"country\", \"course\", \"covid\", \"d\", \"datum\", \"day\", \"death\", \"december\", \"decision\", \"die\", \"different\", \"do\", \"doctor\", \"dose\", \"doubt\", \"due\", \"early\", \"education\", \"effect\", \"else\", \"end\", \"england\", \"enough\", \"even\", \"exactly\", \"expect\", \"face\", \"family\", \"far\", \"feel\", \"figure\", \"find\", \"first\", \"follow\", \"friend\", \"fucking\", \"future\", \"get\", \"give\", \"go\", \"good\", \"government\", \"group\", \"guess\", \"hand\", \"happen\", \"happy\", \"have\", \"health\", \"hear\", \"help\", \"high\", \"holiday\", \"home\", \"hope\", \"hospital\", \"hour\", \"https\", \"idea\", \"impact\", \"important\", \"increase\", \"infection\", \"issue\", \"january\", \"job\", \"keep\", \"kid\", \"know\", \"last\", \"later\", \"law\", \"less\", \"life\", \"likely\", \"literally\", \"little\", \"live\", \"local\", \"lockdown\", \"london\", \"long\", \"look\", \"lot\", \"low\", \"m\", \"make\", \"manage\", \"many\", \"march\", \"mask\", \"matter\", \"mean\", \"member\", \"minute\", \"month\", \"much\", \"much\", \"need\", \"negative\", \"new\", \"news\", \"next\", \"nhs\", \"nhttps\", \"ni\", \"non\", \"number\", \"offer\", \"old\", \"open\", \"option\", \"other\", \"oxford\", \"pandemic\", \"parent\", \"patient\", \"pay\", \"people\", \"person\", \"place\", \"point\", \"population\", \"positive\", \"post\", \"pretty\", \"probably\", \"problem\", \"put\", \"question\", \"rate\", \"rather\", \"re\", \"read\", \"real\", \"really\", \"reason\", \"reduce\", \"report\", \"restriction\", \"result\", \"right\", \"risk\", \"rule\", \"s\", \"safe\", \"say\", \"school\", \"second\", \"see\", \"seem\", \"send\", \"sense\", \"set\", \"shop\", \"show\", \"sit\", \"situation\", \"sorry\", \"sound\", \"spread\", \"staff\", \"start\", \"stay\", \"still\", \"stop\", \"student\", \"summer\", \"support\", \"sure\", \"symptom\", \"take\", \"talk\", \"teacher\", \"tell\", \"term\", \"test\", \"thank\", \"thing\", \"think\", \"tier\", \"time\", \"today\", \"top\", \"travel\", \"true\", \"try\", \"uk\", \"use\", \"vaccinate\", \"vaccine\", \"variant\", \"ve\", \"virus\", \"vulnerable\", \"want\", \"way\", \"wear\", \"week\", \"well\", \"whole\", \"work\", \"worker\", \"worry\", \"wrong\", \"year\", \"yesterday\"]}, \"R\": 30, \"lambda.step\": 0.01, \"plot.opts\": {\"xlab\": \"PC1\", \"ylab\": \"PC2\"}, \"topic.order\": [5, 7, 6, 2, 4, 3, 8, 1]};\n",
       "\n",
       "function LDAvis_load_lib(url, callback){\n",
       "  var s = document.createElement('script');\n",
       "  s.src = url;\n",
       "  s.async = true;\n",
       "  s.onreadystatechange = s.onload = callback;\n",
       "  s.onerror = function(){console.warn(\"failed to load library \" + url);};\n",
       "  document.getElementsByTagName(\"head\")[0].appendChild(s);\n",
       "}\n",
       "\n",
       "if(typeof(LDAvis) !== \"undefined\"){\n",
       "   // already loaded: just create the visualization\n",
       "   !function(LDAvis){\n",
       "       new LDAvis(\"#\" + \"ldavis_el548611402883809444487338183594\", ldavis_el548611402883809444487338183594_data);\n",
       "   }(LDAvis);\n",
       "}else if(typeof define === \"function\" && define.amd){\n",
       "   // require.js is available: use it to load d3/LDAvis\n",
       "   require.config({paths: {d3: \"https://d3js.org/d3.v5\"}});\n",
       "   require([\"d3\"], function(d3){\n",
       "      window.d3 = d3;\n",
       "      LDAvis_load_lib(\"https://cdn.jsdelivr.net/gh/bmabey/pyLDAvis@3.3.1/pyLDAvis/js/ldavis.v3.0.0.js\", function(){\n",
       "        new LDAvis(\"#\" + \"ldavis_el548611402883809444487338183594\", ldavis_el548611402883809444487338183594_data);\n",
       "      });\n",
       "    });\n",
       "}else{\n",
       "    // require.js not available: dynamically load d3 & LDAvis\n",
       "    LDAvis_load_lib(\"https://d3js.org/d3.v5.js\", function(){\n",
       "         LDAvis_load_lib(\"https://cdn.jsdelivr.net/gh/bmabey/pyLDAvis@3.3.1/pyLDAvis/js/ldavis.v3.0.0.js\", function(){\n",
       "                 new LDAvis(\"#\" + \"ldavis_el548611402883809444487338183594\", ldavis_el548611402883809444487338183594_data);\n",
       "            })\n",
       "         });\n",
       "}\n",
       "</script>"
      ],
      "text/plain": [
       "PreparedData(topic_coordinates=              x         y  topics  cluster       Freq\n",
       "topic                                                \n",
       "4     -0.399523 -0.151118       1        1  21.324677\n",
       "6     -0.039634  0.426364       2        1  18.028437\n",
       "5     -0.113424  0.057324       3        1  17.726125\n",
       "1      0.076897 -0.080259       4        1  10.225807\n",
       "3      0.134999 -0.099456       5        1   9.942194\n",
       "2      0.112362 -0.099282       6        1   9.395113\n",
       "7      0.109559 -0.015375       7        1   7.703386\n",
       "0      0.118763 -0.038198       8        1   5.654261, topic_info=        Term           Freq          Total Category  logprob  loglift\n",
       "159       do   99195.000000   99195.000000  Default  30.0000  30.0000\n",
       "6     people  152355.000000  152355.000000  Default  29.0000  29.0000\n",
       "73       get  115064.000000  115064.000000  Default  28.0000  28.0000\n",
       "11        go  102150.000000  102150.000000  Default  27.0000  27.0000\n",
       "558   school   51057.000000   51057.000000  Default  26.0000  26.0000\n",
       "...      ...            ...            ...      ...      ...      ...\n",
       "762      top    3875.099936    3875.954186   Topic8  -4.9545   2.8725\n",
       "835    offer    3871.629833    3872.484755   Topic8  -4.9554   2.8725\n",
       "2866  option    3866.805825    3867.660051   Topic8  -4.9566   2.8725\n",
       "834   future    3514.929084    3515.783335   Topic8  -5.0520   2.8725\n",
       "641    doubt    3508.043383    3508.897615   Topic8  -5.0540   2.8725\n",
       "\n",
       "[271 rows x 6 columns], token_table=      Topic      Freq       Term\n",
       "term                            \n",
       "1210      2  0.999946       able\n",
       "348       3  0.999968   actually\n",
       "2246      6  0.999918        age\n",
       "70        3  0.999947      agree\n",
       "493       1  0.999934    already\n",
       "...     ...       ...        ...\n",
       "1023      8  0.999767     worker\n",
       "8         7  0.999862      worry\n",
       "912       3  0.999883      wrong\n",
       "297       4  0.999969       year\n",
       "563       4  0.999873  yesterday\n",
       "\n",
       "[242 rows x 3 columns], R=30, lambda_step=0.01, plot_opts={'xlab': 'PC1', 'ylab': 'PC2'}, topic_order=[5, 7, 6, 2, 4, 3, 8, 1])"
      ]
     },
     "execution_count": 27,
     "metadata": {},
     "output_type": "execute_result"
    }
   ],
   "source": [
    "import pyLDAvis.gensim_models\n",
    "import os\n",
    "import pickle\n",
    "import pyLDAvis\n",
    "\n",
    "lda_model = build_lda(3)\n",
    "\n",
    "pyLDAvis.enable_notebook()\n",
    "vis = pyLDAvis.gensim_models.prepare(lda_model,\n",
    "                                     corpus,\n",
    "                                     id2word)\n",
    "vis"
   ]
  },
  {
   "cell_type": "code",
   "execution_count": null,
   "id": "coordinate-adams",
   "metadata": {},
   "outputs": [],
   "source": []
  }
 ],
 "metadata": {
  "kernelspec": {
   "display_name": "Python 3",
   "language": "python",
   "name": "python3"
  },
  "language_info": {
   "codemirror_mode": {
    "name": "ipython",
    "version": 3
   },
   "file_extension": ".py",
   "mimetype": "text/x-python",
   "name": "python",
   "nbconvert_exporter": "python",
   "pygments_lexer": "ipython3",
   "version": "3.9.1"
  }
 },
 "nbformat": 4,
 "nbformat_minor": 5
}
