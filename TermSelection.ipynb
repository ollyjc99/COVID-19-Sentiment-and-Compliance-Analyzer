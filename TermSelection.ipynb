{
 "cells": [
  {
   "cell_type": "code",
   "execution_count": null,
   "id": "committed-windows",
   "metadata": {},
   "outputs": [],
   "source": [
    "from sklearn.feature_extraction.text import CountVectorizer\n",
    "from sklearn.feature_selection import chi2\n",
    "\n",
    "vectorizer = CountVectorizer(lowercase=True, stop_words='english')"
   ]
  },
  {
   "cell_type": "code",
   "execution_count": null,
   "id": "compound-hebrew",
   "metadata": {},
   "outputs": [],
   "source": [
    "def get_target(sentiment):\n",
    "    if sentiment == 'neutral':\n",
    "        return 0\n",
    "    elif sentiment == 'negative':\n",
    "        return 1\n",
    "    elif sentiment == 'positive':\n",
    "        return 1"
   ]
  },
  {
   "cell_type": "code",
   "execution_count": null,
   "id": "planned-robinson",
   "metadata": {},
   "outputs": [],
   "source": [
    "def document_vectorizer(document, n):\n",
    "    X = vectorizer.fit_transform(document['body'])\n",
    "    chi2score = chi2(X, document['target'])[0]\n",
    "    \n",
    "    wscores = zip(vectorizer.get_feature_names(), chi2score)\n",
    "    wchi2 = sorted(wscores, key=lambda x:x[1])\n",
    "    \n",
    "    return list(zip(*wchi2[-n:]))"
   ]
  }
 ],
 "metadata": {
  "kernelspec": {
   "display_name": "Python 3",
   "language": "python",
   "name": "python3"
  },
  "language_info": {
   "codemirror_mode": {
    "name": "ipython",
    "version": 3
   },
   "file_extension": ".py",
   "mimetype": "text/x-python",
   "name": "python",
   "nbconvert_exporter": "python",
   "pygments_lexer": "ipython3",
   "version": "3.9.1"
  }
 },
 "nbformat": 4,
 "nbformat_minor": 5
}
