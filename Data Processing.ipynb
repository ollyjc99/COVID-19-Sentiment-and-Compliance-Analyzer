{
 "cells": [
  {
   "cell_type": "code",
   "execution_count": null,
   "id": "thrown-database",
   "metadata": {},
   "outputs": [],
   "source": [
    "%pylab inline\n",
    "from sys import platform\n",
    "from tqdm import trange\n",
    "import pandas as pd\n",
    "from datetime import datetime\n",
    "import matplotlib.pyplot as plt\n",
    "import matplotlib.dates as mdates\n",
    "\n",
    "if platform == \"win32\":\n",
    "    path = 'C:User/olive/'\n",
    "elif platform == \"darwin\":\n",
    "    path = '~/'\n",
    "    \n",
    "%run SentimentAnalysis.ipynb"
   ]
  },
  {
   "cell_type": "code",
   "execution_count": null,
   "id": "tamil-excuse",
   "metadata": {},
   "outputs": [],
   "source": [
    "### READS IN RAW REDDIT DATA FROM UNIVERSITY ONEDRIVE\n",
    "### INTO COMMENT AND SUBMISSION DATAFRAMES\n",
    "\n",
    "c_df = pd.read_csv(path + 'OneDrive - Cardiff University/Individual Project/raw data/comments.csv', index_col ='id')\n",
    "s_df = pd.read_csv(path + 'OneDrive - Cardiff University/Individual Project/raw data/submissions.csv', index_col ='id')"
   ]
  },
  {
   "cell_type": "code",
   "execution_count": null,
   "id": "anticipated-institution",
   "metadata": {},
   "outputs": [],
   "source": [
    "### PROCESSING OF RAW COMMENT AND SUBMISSION DATA\n",
    "\n",
    "# Create a datetime from the 'created_utc' column of each row\n",
    "c_df['datetime'] = [datetime.fromtimestamp(i) for i in c_df['created_utc']]\n",
    "s_df['datetime'] = [datetime.fromtimestamp(i) for i in s_df['created_utc']]\n",
    "\n",
    "# Perform sentiment analysis on each comment and return the sentiment and compound score\n",
    "c_df['sentiment'] , c_df['compound_score'] = sentiment_analysis([*c_df['body']])"
   ]
  },
  {
   "cell_type": "code",
   "execution_count": null,
   "id": "virgin-campus",
   "metadata": {},
   "outputs": [],
   "source": []
  },
  {
   "cell_type": "code",
   "execution_count": null,
   "id": "indoor-bishop",
   "metadata": {},
   "outputs": [],
   "source": [
    "### REFORMAT DATAFRAMES\n",
    "\n",
    "c_df = c_df[['datetime', 'body', 'sentiment', 'compound_score', 'submission_id', 'parent_id']]\n",
    "s_df = s_df[['datetime', 'title', 'selftext']]"
   ]
  },
  {
   "cell_type": "code",
   "execution_count": null,
   "id": "transsexual-valuable",
   "metadata": {},
   "outputs": [],
   "source": [
    "### SAVE PROCESSED DATA\n",
    "\n",
    "c_df.to_pickle(path + 'OneDrive - Cardiff University/Individual Project/processed data/comments.csv')\n",
    "s_df.to_pickle(path + 'OneDrive - Cardiff University/Individual Project/processed data/submissions.csv')"
   ]
  }
 ],
 "metadata": {
  "kernelspec": {
   "display_name": "Python 3",
   "language": "python",
   "name": "python3"
  },
  "language_info": {
   "codemirror_mode": {
    "name": "ipython",
    "version": 3
   },
   "file_extension": ".py",
   "mimetype": "text/x-python",
   "name": "python",
   "nbconvert_exporter": "python",
   "pygments_lexer": "ipython3",
   "version": "3.9.1"
  }
 },
 "nbformat": 4,
 "nbformat_minor": 5
}
