{
 "cells": [
  {
   "cell_type": "code",
   "execution_count": 4,
   "id": "figured-europe",
   "metadata": {},
   "outputs": [
    {
     "name": "stderr",
     "output_type": "stream",
     "text": [
      "100%|██████████| 4/4 [00:00<00:00, 94.45it/s]\n"
     ]
    },
    {
     "name": "stdout",
     "output_type": "stream",
     "text": [
      "Done\n"
     ]
    }
   ],
   "source": [
    "from tqdm import trange, tqdm_notebook\n",
    "from sklearn.datasets import fetch_20newsgroups\n",
    "from time import sleep\n",
    "\n",
    "categories = ['comp.graphics','sci.space']\n",
    "for i in trange(4):\n",
    "    sleep(0.01)\n",
    "    \n",
    "posts = fetch_20newsgroups(subset='train', categories=categories,\n",
    "                           shuffle=True, random_state=42,\n",
    "                           remove=('headers','footers','quotes'))"
   ]
  },
  {
   "cell_type": "code",
   "execution_count": 5,
   "id": "collaborative-survival",
   "metadata": {},
   "outputs": [],
   "source": [
    "from sklearn.feature_extraction.text import CountVectorizer\n",
    "vectorizer = CountVectorizer(lowercase=True, stop_words='english')\n",
    "X = vectorizer.fit_transform(posts.data)"
   ]
  },
  {
   "cell_type": "code",
   "execution_count": 6,
   "id": "deadly-orchestra",
   "metadata": {},
   "outputs": [
    {
     "name": "stdout",
     "output_type": "stream",
     "text": [
      "(array([ 0.53235333, 60.32462013,  1.96964587, ...,  0.98482293,\n",
      "        1.96964587,  2.03082192]), array([4.65619150e-01, 8.04350110e-15, 1.60485456e-01, ...,\n",
      "       3.21010995e-01, 1.60485456e-01, 1.54137230e-01]))\n"
     ]
    }
   ],
   "source": [
    "from sklearn.feature_selection import chi2\n",
    "# compute chi2 for each feature\n",
    "chi2score = chi2(X, posts.target)[0]"
   ]
  },
  {
   "cell_type": "code",
   "execution_count": 7,
   "id": "potential-financing",
   "metadata": {},
   "outputs": [
    {
     "data": {
      "image/png": "[encoded data removed]",
      "text/plain": [
       "<Figure size 432x288 with 1 Axes>"
      ]
     },
     "metadata": {
      "needs_background": "light"
     },
     "output_type": "display_data"
    }
   ],
   "source": [
    "from pylab import barh, plot, yticks, show, grid, xlabel, figure\n",
    "wscores = zip(vectorizer.get_feature_names(), chi2score)\n",
    "wchi2 = sorted(wscores, key=lambda x:x[1])\n",
    "topchi2 = list(zip(*wchi2[-25:]))\n",
    "\n",
    "x = range(len(topchi2[1]))\n",
    "labels = topchi2[0]\n",
    "barh(x , topchi2[1], align='center', alpha=.2, color='g')\n",
    "plot(topchi2[1], x,'-o', markersize=2, alpha=.8, color='g')\n",
    "yticks(x ,labels)\n",
    "xlabel('$\\chi^2$')\n",
    "show()"
   ]
  },
  {
   "cell_type": "code",
   "execution_count": 27,
   "id": "outstanding-ballot",
   "metadata": {},
   "outputs": [
    {
     "name": "stdout",
     "output_type": "stream",
     "text": [
      "['comp.graphics', 'sci.space']\n",
      "[0 1 0 ... 0 0 1]\n"
     ]
    }
   ],
   "source": [
    "# print(posts.data)\n",
    "# print(posts.filenames)\n",
    "print(posts.target_names)\n",
    "print(posts.target)\n",
    "# print(posts.DESCR)"
   ]
  },
  {
   "cell_type": "code",
   "execution_count": null,
   "id": "sacred-burden",
   "metadata": {},
   "outputs": [],
   "source": []
  }
 ],
 "metadata": {
  "kernelspec": {
   "display_name": "Python 3",
   "language": "python",
   "name": "python3"
  },
  "language_info": {
   "codemirror_mode": {
    "name": "ipython",
    "version": 3
   },
   "file_extension": ".py",
   "mimetype": "text/x-python",
   "name": "python",
   "nbconvert_exporter": "python",
   "pygments_lexer": "ipython3",
   "version": "3.9.1"
  }
 },
 "nbformat": 4,
 "nbformat_minor": 5
}
