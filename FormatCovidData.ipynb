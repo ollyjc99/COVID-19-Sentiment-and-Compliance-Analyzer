{
 "cells": [
  {
   "cell_type": "code",
   "execution_count": null,
   "id": "governmental-apparatus",
   "metadata": {},
   "outputs": [],
   "source": [
    "%pylab inline\n",
    "from sys import platform\n",
    "import pandas as pd\n",
    "from datetime import datetime\n",
    "from tqdm import tqdm, trange\n",
    "\n",
    "if platform == \"win32\":\n",
    "    path = 'C:/Users/olive/'\n",
    "elif platform == \"darwin\":\n",
    "    path = '~/'\n",
    "    \n",
    "pd.options.mode.chained_assignment = None  # default='warn'"
   ]
  }
 ],
 "metadata": {
  "kernelspec": {
   "display_name": "Python 3",
   "language": "python",
   "name": "python3"
  },
  "language_info": {
   "codemirror_mode": {
    "name": "ipython",
    "version": 3
   },
   "file_extension": ".py",
   "mimetype": "text/x-python",
   "name": "python",
   "nbconvert_exporter": "python",
   "pygments_lexer": "ipython3",
   "version": "3.9.1"
  }
 },
 "nbformat": 4,
 "nbformat_minor": 5
}
