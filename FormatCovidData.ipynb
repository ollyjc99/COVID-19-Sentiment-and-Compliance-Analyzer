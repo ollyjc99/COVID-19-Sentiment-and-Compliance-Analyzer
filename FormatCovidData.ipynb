{
 "cells": [
  {
   "cell_type": "code",
   "execution_count": 4,
   "id": "expressed-resolution",
   "metadata": {},
   "outputs": [
    {
     "name": "stdout",
     "output_type": "stream",
     "text": [
      "Populating the interactive namespace from numpy and matplotlib\n"
     ]
    },
    {
     "name": "stderr",
     "output_type": "stream",
     "text": [
      "/Users/ollyjc/Documents/GitHub/COVID-19-Sentiment-and-Compliance-Analyzer/.venv/lib/python3.9/site-packages/IPython/core/magics/pylab.py:159: UserWarning: pylab import has clobbered these variables: ['datetime']\n",
      "`%matplotlib` prevents importing * from pylab and numpy\n",
      "  warn(\"pylab import has clobbered these variables: %s\"  % clobbered +\n"
     ]
    }
   ],
   "source": [
    "%pylab inline\n",
    "from sys import platform\n",
    "import os\n",
    "import pandas as pd\n",
    "from datetime import datetime\n",
    "from tqdm import tqdm, trange\n",
    "\n",
    "if platform == \"win32\":\n",
    "    path = 'C:/Users/olive/'\n",
    "elif platform == \"darwin\":\n",
    "    path = '~/'\n",
    "    \n",
    "pd.options.mode.chained_assignment = None  # default='warn'"
   ]
  },
  {
   "cell_type": "code",
   "execution_count": 9,
   "id": "alternate-school",
   "metadata": {},
   "outputs": [
    {
     "data": {
      "text/plain": [
       "'/Users/ollyjc/Documents/GitHub/COVID-19-Sentiment-and-Compliance-Analyzer'"
      ]
     },
     "execution_count": 9,
     "metadata": {},
     "output_type": "execute_result"
    }
   ],
   "source": [
    "os.path.abspath(\"\")"
   ]
  },
  {
   "cell_type": "code",
   "execution_count": 124,
   "id": "juvenile-absence",
   "metadata": {},
   "outputs": [],
   "source": [
    "root = \"/Users/ollyjc/Documents/GitHub/COVID-19/csse_covid_19_data/csse_covid_19_daily_reports/\"\n",
    "files = []\n",
    "for csv in os.scandir(root):\n",
    "    if csv.name[6:10] == \"2020\":\n",
    "        files.append(csv.name)\n",
    "        \n",
    "files[:3]\n",
    "\n",
    "covid_df = pd.DataFrame(columns=['Confirmed', 'Deaths', 'Recovered', 'Date Time'])"
   ]
  },
  {
   "cell_type": "code",
   "execution_count": 135,
   "id": "bored-jones",
   "metadata": {},
   "outputs": [
    {
     "data": {
      "text/html": [
       "<div>\n",
       "<style scoped>\n",
       "    .dataframe tbody tr th:only-of-type {\n",
       "        vertical-align: middle;\n",
       "    }\n",
       "\n",
       "    .dataframe tbody tr th {\n",
       "        vertical-align: top;\n",
       "    }\n",
       "\n",
       "    .dataframe thead th {\n",
       "        text-align: right;\n",
       "    }\n",
       "</style>\n",
       "<table border=\"1\" class=\"dataframe\">\n",
       "  <thead>\n",
       "    <tr style=\"text-align: right;\">\n",
       "      <th></th>\n",
       "      <th>FIPS</th>\n",
       "      <th>Admin2</th>\n",
       "      <th>Province_State</th>\n",
       "      <th>Country_Region</th>\n",
       "      <th>Last_Update</th>\n",
       "      <th>Lat</th>\n",
       "      <th>Long_</th>\n",
       "      <th>Confirmed</th>\n",
       "      <th>Deaths</th>\n",
       "      <th>Recovered</th>\n",
       "      <th>Active</th>\n",
       "      <th>Combined_Key</th>\n",
       "      <th>Incidence_Rate</th>\n",
       "      <th>Case-Fatality_Ratio</th>\n",
       "    </tr>\n",
       "  </thead>\n",
       "  <tbody>\n",
       "    <tr>\n",
       "      <th>3665</th>\n",
       "      <td>NaN</td>\n",
       "      <td>NaN</td>\n",
       "      <td>NaN</td>\n",
       "      <td>United Kingdom</td>\n",
       "      <td>2020-06-07 03:53:30</td>\n",
       "      <td>55.3781</td>\n",
       "      <td>-3.436</td>\n",
       "      <td>284868</td>\n",
       "      <td>40465</td>\n",
       "      <td>0</td>\n",
       "      <td>244403</td>\n",
       "      <td>United Kingdom</td>\n",
       "      <td>419.626997</td>\n",
       "      <td>14.204825</td>\n",
       "    </tr>\n",
       "  </tbody>\n",
       "</table>\n",
       "</div>"
      ],
      "text/plain": [
       "      FIPS Admin2 Province_State  Country_Region          Last_Update  \\\n",
       "3665   NaN    NaN            NaN  United Kingdom  2020-06-07 03:53:30   \n",
       "\n",
       "          Lat  Long_  Confirmed  Deaths  Recovered  Active    Combined_Key  \\\n",
       "3665  55.3781 -3.436     284868   40465          0  244403  United Kingdom   \n",
       "\n",
       "      Incidence_Rate  Case-Fatality_Ratio  \n",
       "3665      419.626997            14.204825  "
      ]
     },
     "execution_count": 135,
     "metadata": {},
     "output_type": "execute_result"
    }
   ],
   "source": [
    "df = pd.read_csv(root+files[3])\n",
    "df.query('Combined_Key == \"United Kingdom\"')"
   ]
  },
  {
   "cell_type": "code",
   "execution_count": 128,
   "id": "chinese-baseball",
   "metadata": {},
   "outputs": [
    {
     "ename": "AttributeError",
     "evalue": "'function' object has no attribute 'columns'",
     "output_type": "error",
     "traceback": [
      "\u001b[0;31m---------------------------------------------------------------------------\u001b[0m",
      "\u001b[0;31mAttributeError\u001b[0m                            Traceback (most recent call last)",
      "\u001b[0;32m<ipython-input-128-eaf0c07bb0d2>\u001b[0m in \u001b[0;36m<module>\u001b[0;34m\u001b[0m\n\u001b[1;32m      2\u001b[0m \u001b[0;34m\u001b[0m\u001b[0m\n\u001b[1;32m      3\u001b[0m \u001b[0mdf\u001b[0m \u001b[0;34m=\u001b[0m \u001b[0mpd\u001b[0m\u001b[0;34m.\u001b[0m\u001b[0mread_csv\u001b[0m\u001b[0;34m(\u001b[0m\u001b[0mroot\u001b[0m\u001b[0;34m+\u001b[0m\u001b[0mfile\u001b[0m\u001b[0;34m)\u001b[0m\u001b[0;34m.\u001b[0m\u001b[0mreset_index\u001b[0m\u001b[0;34m\u001b[0m\u001b[0;34m\u001b[0m\u001b[0m\n\u001b[0;32m----> 4\u001b[0;31m \u001b[0;32mif\u001b[0m \u001b[0;34m'Country/Region'\u001b[0m \u001b[0;32min\u001b[0m \u001b[0mdf\u001b[0m\u001b[0;34m.\u001b[0m\u001b[0mcolumns\u001b[0m\u001b[0;34m:\u001b[0m\u001b[0;34m\u001b[0m\u001b[0;34m\u001b[0m\u001b[0m\n\u001b[0m\u001b[1;32m      5\u001b[0m     \u001b[0mdf\u001b[0m \u001b[0;34m=\u001b[0m \u001b[0mdf\u001b[0m\u001b[0;34m[\u001b[0m\u001b[0;34m[\u001b[0m\u001b[0;34m'Country/Region'\u001b[0m\u001b[0;34m,\u001b[0m \u001b[0;34m'Confirmed'\u001b[0m\u001b[0;34m,\u001b[0m \u001b[0;34m'Deaths'\u001b[0m\u001b[0;34m,\u001b[0m \u001b[0;34m'Recovered'\u001b[0m\u001b[0;34m]\u001b[0m\u001b[0;34m]\u001b[0m\u001b[0;34m\u001b[0m\u001b[0;34m\u001b[0m\u001b[0m\n\u001b[1;32m      6\u001b[0m     \u001b[0mdf\u001b[0m\u001b[0;34m.\u001b[0m\u001b[0mcolumns\u001b[0m \u001b[0;34m=\u001b[0m \u001b[0;34m[\u001b[0m\u001b[0;34m'Country'\u001b[0m\u001b[0;34m,\u001b[0m \u001b[0;34m'Confirmed'\u001b[0m\u001b[0;34m,\u001b[0m \u001b[0;34m'Deaths'\u001b[0m\u001b[0;34m,\u001b[0m \u001b[0;34m'Recovered'\u001b[0m\u001b[0;34m]\u001b[0m\u001b[0;34m\u001b[0m\u001b[0;34m\u001b[0m\u001b[0m\n",
      "\u001b[0;31mAttributeError\u001b[0m: 'function' object has no attribute 'columns'"
     ]
    }
   ],
   "source": [
    "\n",
    "\n",
    "file = files[3]\n",
    "\n",
    "df = pd.read_csv(root+file)\n",
    "\n",
    "if 'Country/Region' in df.columns:\n",
    "    df = df[['Country/Region', 'Confirmed', 'Deaths', 'Recovered']]\n",
    "    df.columns = ['Country', 'Confirmed', 'Deaths', 'Recovered']\n",
    "    df = df.query('Country == \"UK\"')\n",
    "elif 'Combined_Key in df.columns':\n",
    "    print(df.columns)\n",
    "    df = df[['Combined_Key', 'Confirmed', 'Deaths', 'Recovered']]\n",
    "    df.columns = ['Country', 'Confirmed', 'Deaths', 'Recovered']\n",
    "    df = df.query('Country == \"United Kingdom\"')\n",
    "    \n",
    "del df['Country']\n",
    "df['Date Time'] = [pd.to_datetime(file[:-6], format=\"%m-%d-%y\")]\n",
    "covid_df = covid_df.append(df)\n",
    "\n",
    "covid_df"
   ]
  },
  {
   "cell_type": "code",
   "execution_count": 129,
   "id": "cognitive-access",
   "metadata": {},
   "outputs": [
    {
     "data": {
      "text/html": [
       "<div>\n",
       "<style scoped>\n",
       "    .dataframe tbody tr th:only-of-type {\n",
       "        vertical-align: middle;\n",
       "    }\n",
       "\n",
       "    .dataframe tbody tr th {\n",
       "        vertical-align: top;\n",
       "    }\n",
       "\n",
       "    .dataframe thead th {\n",
       "        text-align: right;\n",
       "    }\n",
       "</style>\n",
       "<table border=\"1\" class=\"dataframe\">\n",
       "  <thead>\n",
       "    <tr style=\"text-align: right;\">\n",
       "      <th></th>\n",
       "      <th>index</th>\n",
       "      <th>Confirmed</th>\n",
       "      <th>Deaths</th>\n",
       "      <th>Recovered</th>\n",
       "      <th>Date Time</th>\n",
       "    </tr>\n",
       "  </thead>\n",
       "  <tbody>\n",
       "    <tr>\n",
       "      <th>0</th>\n",
       "      <td>47</td>\n",
       "      <td>13</td>\n",
       "      <td>0</td>\n",
       "      <td>8</td>\n",
       "      <td>2020-02-26</td>\n",
       "    </tr>\n",
       "    <tr>\n",
       "      <th>1</th>\n",
       "      <td>47</td>\n",
       "      <td>15</td>\n",
       "      <td>0</td>\n",
       "      <td>8</td>\n",
       "      <td>2020-02-27</td>\n",
       "    </tr>\n",
       "    <tr>\n",
       "      <th>2</th>\n",
       "      <td>0</td>\n",
       "      <td>NaN</td>\n",
       "      <td>NaN</td>\n",
       "      <td>NaN</td>\n",
       "      <td>2020-06-07</td>\n",
       "    </tr>\n",
       "  </tbody>\n",
       "</table>\n",
       "</div>"
      ],
      "text/plain": [
       "   index Confirmed Deaths Recovered  Date Time\n",
       "0     47        13      0         8 2020-02-26\n",
       "1     47        15      0         8 2020-02-27\n",
       "2      0       NaN    NaN       NaN 2020-06-07"
      ]
     },
     "execution_count": 129,
     "metadata": {},
     "output_type": "execute_result"
    }
   ],
   "source": [
    "covid_df.reset_index()"
   ]
  },
  {
   "cell_type": "code",
   "execution_count": null,
   "id": "adjusted-passage",
   "metadata": {},
   "outputs": [],
   "source": []
  }
 ],
 "metadata": {
  "kernelspec": {
   "display_name": "Python 3",
   "language": "python",
   "name": "python3"
  },
  "language_info": {
   "codemirror_mode": {
    "name": "ipython",
    "version": 3
   },
   "file_extension": ".py",
   "mimetype": "text/x-python",
   "name": "python",
   "nbconvert_exporter": "python",
   "pygments_lexer": "ipython3",
   "version": "3.9.1"
  }
 },
 "nbformat": 4,
 "nbformat_minor": 5
}
