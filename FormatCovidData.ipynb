{
 "cells": [
  {
   "cell_type": "code",
   "execution_count": 4,
   "id": "occupied-crash",
   "metadata": {},
   "outputs": [
    {
     "name": "stdout",
     "output_type": "stream",
     "text": [
      "Populating the interactive namespace from numpy and matplotlib\n"
     ]
    },
    {
     "name": "stderr",
     "output_type": "stream",
     "text": [
      "/Users/ollyjc/Documents/GitHub/COVID-19-Sentiment-and-Compliance-Analyzer/.venv/lib/python3.9/site-packages/IPython/core/magics/pylab.py:159: UserWarning: pylab import has clobbered these variables: ['datetime']\n",
      "`%matplotlib` prevents importing * from pylab and numpy\n",
      "  warn(\"pylab import has clobbered these variables: %s\"  % clobbered +\n"
     ]
    }
   ],
   "source": [
    "%pylab inline\n",
    "from sys import platform\n",
    "import os\n",
    "import pandas as pd\n",
    "from datetime import datetime\n",
    "from tqdm import tqdm, trange\n",
    "\n",
    "if platform == \"win32\":\n",
    "    path = 'C:/Users/olive/'\n",
    "elif platform == \"darwin\":\n",
    "    path = '~/'\n",
    "    \n",
    "pd.options.mode.chained_assignment = None  # default='warn'"
   ]
  },
  {
   "cell_type": "code",
   "execution_count": 9,
   "id": "alleged-examination",
   "metadata": {},
   "outputs": [
    {
     "data": {
      "text/plain": [
       "'/Users/ollyjc/Documents/GitHub/COVID-19-Sentiment-and-Compliance-Analyzer'"
      ]
     },
     "execution_count": 9,
     "metadata": {},
     "output_type": "execute_result"
    }
   ],
   "source": [
    "os.path.abspath(\"\")"
   ]
  },
  {
   "cell_type": "code",
   "execution_count": 201,
   "id": "breathing-local",
   "metadata": {},
   "outputs": [],
   "source": [
    "root = \"/Users/ollyjc/Documents/GitHub/COVID-19/csse_covid_19_data/csse_covid_19_daily_reports/\"\n",
    "files = []\n",
    "for csv in os.scandir(root):\n",
    "    if csv.name[6:10] == \"2020\":\n",
    "        files.append(csv.name)\n",
    "        \n",
    "files[:3]\n",
    "\n",
    "covid_df = pd.DataFrame(columns=['Confirmed', 'Deaths', 'Recovered', 'Date Time'])"
   ]
  },
  {
   "cell_type": "code",
   "execution_count": 202,
   "id": "sized-apple",
   "metadata": {},
   "outputs": [],
   "source": [
    "empty_data = []"
   ]
  },
  {
   "cell_type": "code",
   "execution_count": 203,
   "id": "changed-cheat",
   "metadata": {},
   "outputs": [],
   "source": [
    "for file in files:\n",
    "\n",
    "    df = pd.read_csv(root+file)\n",
    "\n",
    "    if 'Country/Region' in df.columns:\n",
    "        df = df[['Country/Region', 'Confirmed', 'Deaths', 'Recovered']]\n",
    "        df.columns = ['Country', 'Confirmed', 'Deaths', 'Recovered']\n",
    "        df = df.query('Country == \"UK\" | Country == \"United Kingdom\"')\n",
    "        if df.empty:\n",
    "            empty_data.append(file)\n",
    "        \n",
    "    elif 'Combined_Key' in df.columns:\n",
    "        df = df[['Combined_Key', 'Confirmed', 'Deaths', 'Recovered']]\n",
    "        df.columns = ['Country', 'Confirmed', 'Deaths', 'Recovered']\n",
    "        df = df.query('Country == \"United Kingdom\"')\n",
    "        if df.empty:\n",
    "            empty_data.append(file)\n",
    "    \n",
    "\n",
    "    del df['Country']\n",
    "#     df['Date Time'] = [pd.to_datetime(file[:-6], format=\"%m-%d-%y\")]\n",
    "    covid_df = covid_df.append(df)"
   ]
  },
  {
   "cell_type": "code",
   "execution_count": 200,
   "id": "brief-employer",
   "metadata": {},
   "outputs": [],
   "source": [
    "del covid_df"
   ]
  },
  {
   "cell_type": "code",
   "execution_count": 204,
   "id": "under-alliance",
   "metadata": {},
   "outputs": [
    {
     "data": {
      "text/plain": [
       "169"
      ]
     },
     "execution_count": 204,
     "metadata": {},
     "output_type": "execute_result"
    }
   ],
   "source": [
    "len(covid_df)"
   ]
  },
  {
   "cell_type": "code",
   "execution_count": 205,
   "id": "challenging-latin",
   "metadata": {},
   "outputs": [
    {
     "data": {
      "text/plain": [
       "213"
      ]
     },
     "execution_count": 205,
     "metadata": {},
     "output_type": "execute_result"
    }
   ],
   "source": [
    "len(empty_data)"
   ]
  },
  {
   "cell_type": "code",
   "execution_count": 206,
   "id": "unable-calculator",
   "metadata": {},
   "outputs": [
    {
     "data": {
      "text/html": [
       "<div>\n",
       "<style scoped>\n",
       "    .dataframe tbody tr th:only-of-type {\n",
       "        vertical-align: middle;\n",
       "    }\n",
       "\n",
       "    .dataframe tbody tr th {\n",
       "        vertical-align: top;\n",
       "    }\n",
       "\n",
       "    .dataframe thead th {\n",
       "        text-align: right;\n",
       "    }\n",
       "</style>\n",
       "<table border=\"1\" class=\"dataframe\">\n",
       "  <thead>\n",
       "    <tr style=\"text-align: right;\">\n",
       "      <th></th>\n",
       "      <th>FIPS</th>\n",
       "      <th>Admin2</th>\n",
       "      <th>Province_State</th>\n",
       "      <th>Country_Region</th>\n",
       "      <th>Last_Update</th>\n",
       "      <th>Lat</th>\n",
       "      <th>Long_</th>\n",
       "      <th>Confirmed</th>\n",
       "      <th>Deaths</th>\n",
       "      <th>Recovered</th>\n",
       "      <th>Active</th>\n",
       "      <th>Combined_Key</th>\n",
       "      <th>Incidence_Rate</th>\n",
       "      <th>Case-Fatality_Ratio</th>\n",
       "    </tr>\n",
       "  </thead>\n",
       "  <tbody>\n",
       "  </tbody>\n",
       "</table>\n",
       "</div>"
      ],
      "text/plain": [
       "Empty DataFrame\n",
       "Columns: [FIPS, Admin2, Province_State, Country_Region, Last_Update, Lat, Long_, Confirmed, Deaths, Recovered, Active, Combined_Key, Incidence_Rate, Case-Fatality_Ratio]\n",
       "Index: []"
      ]
     },
     "execution_count": 206,
     "metadata": {},
     "output_type": "execute_result"
    }
   ],
   "source": [
    "df = pd.read_csv(root+empty_data[0])\n",
    "df.query('Combined_Key == \"United Kingdom\"')"
   ]
  },
  {
   "cell_type": "code",
   "execution_count": null,
   "id": "south-supervisor",
   "metadata": {},
   "outputs": [],
   "source": []
  }
 ],
 "metadata": {
  "kernelspec": {
   "display_name": "Python 3",
   "language": "python",
   "name": "python3"
  },
  "language_info": {
   "codemirror_mode": {
    "name": "ipython",
    "version": 3
   },
   "file_extension": ".py",
   "mimetype": "text/x-python",
   "name": "python",
   "nbconvert_exporter": "python",
   "pygments_lexer": "ipython3",
   "version": "3.9.1"
  }
 },
 "nbformat": 4,
 "nbformat_minor": 5
}
